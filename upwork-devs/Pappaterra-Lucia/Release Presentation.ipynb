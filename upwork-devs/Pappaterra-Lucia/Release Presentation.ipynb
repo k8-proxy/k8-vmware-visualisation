{
 "cells": [
  {
   "cell_type": "markdown",
   "metadata": {},
   "source": [
    "# Release Presentation"
   ]
  },
  {
   "cell_type": "code",
   "execution_count": 1,
   "metadata": {},
   "outputs": [],
   "source": [
    "%%capture\n",
    "import sys\n",
    "!{sys.executable} -m pip install google-auth-oauthlib\n",
    "!{sys.executable} -m pip install google-api-python-client\n",
    "!{sys.executable} -m pip install xhtml2pdf\n",
    "!{sys.executable} -m pip install pdfrw"
   ]
  },
  {
   "cell_type": "code",
   "execution_count": 2,
   "metadata": {},
   "outputs": [
    {
     "data": {
      "text/html": [
       "<style>.container { width:70% !important; }</style>"
      ],
      "text/plain": [
       "<IPython.core.display.HTML object>"
      ]
     },
     "metadata": {},
     "output_type": "display_data"
    }
   ],
   "source": [
    "import requests\n",
    "import pandas as pd\n",
    "import re\n",
    "from modules.presentations import *\n",
    "from IPython.core.display import display, HTML\n",
    "display(HTML(\"<style>.container { width:70% !important; }</style>\"))"
   ]
  },
  {
   "cell_type": "code",
   "execution_count": 3,
   "metadata": {},
   "outputs": [
    {
     "data": {
      "text/html": [
       "<script>\n",
       "code_show=true; \n",
       "function code_toggle() {\n",
       " if (code_show){\n",
       " $('div.input').hide();\n",
       " } else {\n",
       " $('div.input').show();\n",
       " }\n",
       " code_show = !code_show\n",
       "} \n",
       "$( document ).ready(code_toggle);\n",
       "</script>\n",
       "<form action=\"javascript:code_toggle()\"><input type=\"submit\" value=\"Click here to toggle on/off the raw code.\"></form>"
      ],
      "text/plain": [
       "<IPython.core.display.HTML object>"
      ]
     },
     "execution_count": 3,
     "metadata": {},
     "output_type": "execute_result"
    }
   ],
   "source": [
    "HTML('''<script>\n",
    "code_show=true; \n",
    "function code_toggle() {\n",
    " if (code_show){\n",
    " $('div.input').hide();\n",
    " } else {\n",
    " $('div.input').show();\n",
    " }\n",
    " code_show = !code_show\n",
    "} \n",
    "$( document ).ready(code_toggle);\n",
    "</script>\n",
    "<form action=\"javascript:code_toggle()\"><input type=\"submit\" value=\"Click here to toggle on/off the raw code.\"></form>''')"
   ]
  },
  {
   "cell_type": "markdown",
   "metadata": {},
   "source": [
    "We get the json file with the information from\n",
    "https://wmwaredata.s3.us-east-2.amazonaws.com/releases.json"
   ]
  },
  {
   "cell_type": "code",
   "execution_count": 4,
   "metadata": {},
   "outputs": [
    {
     "data": {
      "text/plain": [
       "286301"
      ]
     },
     "execution_count": 4,
     "metadata": {},
     "output_type": "execute_result"
    }
   ],
   "source": [
    "url = 'https://wmwaredata.s3.us-east-2.amazonaws.com/releases.json'\n",
    "r = requests.get(url, allow_redirects=True)\n",
    "open('data/releases.json', 'wb').write(r.content)"
   ]
  },
  {
   "cell_type": "code",
   "execution_count": 5,
   "metadata": {},
   "outputs": [
    {
     "data": {
      "text/html": [
       "<div>\n",
       "<style scoped>\n",
       "    .dataframe tbody tr th:only-of-type {\n",
       "        vertical-align: middle;\n",
       "    }\n",
       "\n",
       "    .dataframe tbody tr th {\n",
       "        vertical-align: top;\n",
       "    }\n",
       "\n",
       "    .dataframe thead th {\n",
       "        text-align: right;\n",
       "    }\n",
       "</style>\n",
       "<table border=\"1\" class=\"dataframe\">\n",
       "  <thead>\n",
       "    <tr style=\"text-align: right;\">\n",
       "      <th></th>\n",
       "      <th>repo</th>\n",
       "      <th>html_url</th>\n",
       "      <th>tag_name</th>\n",
       "      <th>id</th>\n",
       "      <th>created_at</th>\n",
       "    </tr>\n",
       "  </thead>\n",
       "  <tbody>\n",
       "    <tr>\n",
       "      <th>0</th>\n",
       "      <td>aws-jmeter-test-engine</td>\n",
       "      <td>https://github.com/k8-proxy/aws-jmeter-test-en...</td>\n",
       "      <td>v0.2.1</td>\n",
       "      <td>37081347</td>\n",
       "      <td>2021-01-29T11:22:14Z</td>\n",
       "    </tr>\n",
       "    <tr>\n",
       "      <th>1</th>\n",
       "      <td>aws-jmeter-test-engine</td>\n",
       "      <td>https://github.com/k8-proxy/aws-jmeter-test-en...</td>\n",
       "      <td>v0.2.0</td>\n",
       "      <td>36769277</td>\n",
       "      <td>2021-01-22T12:04:31Z</td>\n",
       "    </tr>\n",
       "    <tr>\n",
       "      <th>2</th>\n",
       "      <td>aws-jmeter-test-engine</td>\n",
       "      <td>https://github.com/k8-proxy/aws-jmeter-test-en...</td>\n",
       "      <td>v0.1.0</td>\n",
       "      <td>32809551</td>\n",
       "      <td>2020-10-20T09:00:02Z</td>\n",
       "    </tr>\n",
       "    <tr>\n",
       "      <th>3</th>\n",
       "      <td>glasswall-desktop</td>\n",
       "      <td>https://github.com/k8-proxy/glasswall-desktop/...</td>\n",
       "      <td>v1.0.0</td>\n",
       "      <td>35488083</td>\n",
       "      <td>2020-12-18T17:24:35Z</td>\n",
       "    </tr>\n",
       "    <tr>\n",
       "      <th>4</th>\n",
       "      <td>glasswall-desktop</td>\n",
       "      <td>https://github.com/k8-proxy/glasswall-desktop/...</td>\n",
       "      <td>v0.9.0</td>\n",
       "      <td>34501707</td>\n",
       "      <td>2020-11-27T06:53:49Z</td>\n",
       "    </tr>\n",
       "    <tr>\n",
       "      <th>5</th>\n",
       "      <td>glasswall-desktop</td>\n",
       "      <td>https://github.com/k8-proxy/glasswall-desktop/...</td>\n",
       "      <td>v0.1.7</td>\n",
       "      <td>34263935</td>\n",
       "      <td>2020-11-21T11:35:04Z</td>\n",
       "    </tr>\n",
       "    <tr>\n",
       "      <th>6</th>\n",
       "      <td>glasswall-desktop</td>\n",
       "      <td>https://github.com/k8-proxy/glasswall-desktop/...</td>\n",
       "      <td>v0.1.6</td>\n",
       "      <td>33936626</td>\n",
       "      <td>2020-11-13T19:39:27Z</td>\n",
       "    </tr>\n",
       "    <tr>\n",
       "      <th>7</th>\n",
       "      <td>glasswall-desktop</td>\n",
       "      <td>https://github.com/k8-proxy/glasswall-desktop/...</td>\n",
       "      <td>v0.1.5</td>\n",
       "      <td>33573630</td>\n",
       "      <td>2020-11-06T16:07:08Z</td>\n",
       "    </tr>\n",
       "    <tr>\n",
       "      <th>8</th>\n",
       "      <td>glasswall-desktop</td>\n",
       "      <td>https://github.com/k8-proxy/glasswall-desktop/...</td>\n",
       "      <td>v0.1.4</td>\n",
       "      <td>33227072</td>\n",
       "      <td>2020-10-29T15:35:44Z</td>\n",
       "    </tr>\n",
       "    <tr>\n",
       "      <th>9</th>\n",
       "      <td>glasswall-desktop</td>\n",
       "      <td>https://github.com/k8-proxy/glasswall-desktop/...</td>\n",
       "      <td>v0.1.3</td>\n",
       "      <td>32864364</td>\n",
       "      <td>2020-10-21T12:57:57Z</td>\n",
       "    </tr>\n",
       "    <tr>\n",
       "      <th>10</th>\n",
       "      <td>glasswall-desktop</td>\n",
       "      <td>https://github.com/k8-proxy/glasswall-desktop/...</td>\n",
       "      <td>v0.1.2</td>\n",
       "      <td>32827487</td>\n",
       "      <td>2020-10-20T18:21:57Z</td>\n",
       "    </tr>\n",
       "    <tr>\n",
       "      <th>11</th>\n",
       "      <td>glasswall-desktop</td>\n",
       "      <td>https://github.com/k8-proxy/glasswall-desktop/...</td>\n",
       "      <td>v0.1.1</td>\n",
       "      <td>32821182</td>\n",
       "      <td>2020-10-20T16:22:16Z</td>\n",
       "    </tr>\n",
       "    <tr>\n",
       "      <th>12</th>\n",
       "      <td>glasswall-desktop</td>\n",
       "      <td>https://github.com/k8-proxy/glasswall-desktop/...</td>\n",
       "      <td>v0.1.1</td>\n",
       "      <td>32820433</td>\n",
       "      <td>2020-10-20T16:06:58Z</td>\n",
       "    </tr>\n",
       "    <tr>\n",
       "      <th>13</th>\n",
       "      <td>glasswall-desktop</td>\n",
       "      <td>https://github.com/k8-proxy/glasswall-desktop/...</td>\n",
       "      <td>v0.1.0</td>\n",
       "      <td>32739048</td>\n",
       "      <td>2020-10-19T07:02:25Z</td>\n",
       "    </tr>\n",
       "    <tr>\n",
       "      <th>14</th>\n",
       "      <td>gp-load-balancer</td>\n",
       "      <td>https://github.com/k8-proxy/gp-load-balancer/r...</td>\n",
       "      <td>v0.1.0</td>\n",
       "      <td>36586892</td>\n",
       "      <td>2020-12-06T17:55:28Z</td>\n",
       "    </tr>\n",
       "    <tr>\n",
       "      <th>15</th>\n",
       "      <td>GW-proxy</td>\n",
       "      <td>https://github.com/k8-proxy/GW-proxy/releases/...</td>\n",
       "      <td>v0.5.1</td>\n",
       "      <td>36151723</td>\n",
       "      <td>2020-12-23T08:41:29Z</td>\n",
       "    </tr>\n",
       "  </tbody>\n",
       "</table>\n",
       "</div>"
      ],
      "text/plain": [
       "                      repo                                           html_url  \\\n",
       "0   aws-jmeter-test-engine  https://github.com/k8-proxy/aws-jmeter-test-en...   \n",
       "1   aws-jmeter-test-engine  https://github.com/k8-proxy/aws-jmeter-test-en...   \n",
       "2   aws-jmeter-test-engine  https://github.com/k8-proxy/aws-jmeter-test-en...   \n",
       "3        glasswall-desktop  https://github.com/k8-proxy/glasswall-desktop/...   \n",
       "4        glasswall-desktop  https://github.com/k8-proxy/glasswall-desktop/...   \n",
       "5        glasswall-desktop  https://github.com/k8-proxy/glasswall-desktop/...   \n",
       "6        glasswall-desktop  https://github.com/k8-proxy/glasswall-desktop/...   \n",
       "7        glasswall-desktop  https://github.com/k8-proxy/glasswall-desktop/...   \n",
       "8        glasswall-desktop  https://github.com/k8-proxy/glasswall-desktop/...   \n",
       "9        glasswall-desktop  https://github.com/k8-proxy/glasswall-desktop/...   \n",
       "10       glasswall-desktop  https://github.com/k8-proxy/glasswall-desktop/...   \n",
       "11       glasswall-desktop  https://github.com/k8-proxy/glasswall-desktop/...   \n",
       "12       glasswall-desktop  https://github.com/k8-proxy/glasswall-desktop/...   \n",
       "13       glasswall-desktop  https://github.com/k8-proxy/glasswall-desktop/...   \n",
       "14        gp-load-balancer  https://github.com/k8-proxy/gp-load-balancer/r...   \n",
       "15                GW-proxy  https://github.com/k8-proxy/GW-proxy/releases/...   \n",
       "\n",
       "   tag_name        id            created_at  \n",
       "0    v0.2.1  37081347  2021-01-29T11:22:14Z  \n",
       "1    v0.2.0  36769277  2021-01-22T12:04:31Z  \n",
       "2    v0.1.0  32809551  2020-10-20T09:00:02Z  \n",
       "3    v1.0.0  35488083  2020-12-18T17:24:35Z  \n",
       "4    v0.9.0  34501707  2020-11-27T06:53:49Z  \n",
       "5    v0.1.7  34263935  2020-11-21T11:35:04Z  \n",
       "6    v0.1.6  33936626  2020-11-13T19:39:27Z  \n",
       "7    v0.1.5  33573630  2020-11-06T16:07:08Z  \n",
       "8    v0.1.4  33227072  2020-10-29T15:35:44Z  \n",
       "9    v0.1.3  32864364  2020-10-21T12:57:57Z  \n",
       "10   v0.1.2  32827487  2020-10-20T18:21:57Z  \n",
       "11   v0.1.1  32821182  2020-10-20T16:22:16Z  \n",
       "12   v0.1.1  32820433  2020-10-20T16:06:58Z  \n",
       "13   v0.1.0  32739048  2020-10-19T07:02:25Z  \n",
       "14   v0.1.0  36586892  2020-12-06T17:55:28Z  \n",
       "15   v0.5.1  36151723  2020-12-23T08:41:29Z  "
      ]
     },
     "execution_count": 5,
     "metadata": {},
     "output_type": "execute_result"
    }
   ],
   "source": [
    "df0 = pd.read_json('data/releases.json')\n",
    "df0\n",
    "\n",
    "COLUMN_NAMES = ['assets', 'assets_url', 'author', 'body', 'created_at', 'draft', 'html_url', \n",
    "                'id', 'name', 'node_id', 'prerelease', 'published_at', 'tag_name', \n",
    "                'tarball_url', 'target_commitish', 'upload_url', 'url', 'zipball_url']\n",
    "df = pd.DataFrame(columns=COLUMN_NAMES)\n",
    "\n",
    "for i in range(len(df0)):\n",
    "    for j in range(len(df0.columns)):\n",
    "        my_dict = df0.iloc[i][j]\n",
    "        if my_dict is not None:\n",
    "            df = pd.concat([df, pd.DataFrame([my_dict])])\n",
    "df = df.reset_index(drop=True)\n",
    "\n",
    "repos = []\n",
    "for i in range(len(df)):\n",
    "    s = df['assets_url'].iloc[i]\n",
    "    repo = re.search('https://api.github.com/repos/k8-proxy/(.*)/releases/', s)\n",
    "    repo = repo.group(1)\n",
    "    repos.append(repo)\n",
    "df[\"repo\"] = repos\n",
    "\n",
    "# Reorder columns\n",
    "cols = list(df.columns)\n",
    "cols = [cols[-1]] + cols[0:-1]\n",
    "df = df[cols]\n",
    "\n",
    "# select only the desired features\n",
    "df = df[['repo', 'html_url', 'tag_name', 'id', 'created_at']]\n",
    "df"
   ]
  },
  {
   "cell_type": "code",
   "execution_count": 6,
   "metadata": {},
   "outputs": [],
   "source": [
    "presentation_id, slides_ids = create_presentation(df, file_name='Release Presentation', table_title='Releases', step = 8)"
   ]
  },
  {
   "cell_type": "markdown",
   "metadata": {},
   "source": [
    "The presentation is in this folder: https://drive.google.com/drive/u/1/folders/1dELfGV6IMMII97tTjqSXeJwPAMEjtbDX"
   ]
  }
 ],
 "metadata": {
  "kernelspec": {
   "display_name": "Python 3",
   "language": "python",
   "name": "python3"
  },
  "language_info": {
   "codemirror_mode": {
    "name": "ipython",
    "version": 3
   },
   "file_extension": ".py",
   "mimetype": "text/x-python",
   "name": "python",
   "nbconvert_exporter": "python",
   "pygments_lexer": "ipython3",
   "version": "3.8.5"
  }
 },
 "nbformat": 4,
 "nbformat_minor": 4
}
