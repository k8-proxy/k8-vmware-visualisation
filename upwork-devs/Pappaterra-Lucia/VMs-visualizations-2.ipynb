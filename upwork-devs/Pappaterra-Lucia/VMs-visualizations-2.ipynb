{
 "cells": [
  {
   "cell_type": "markdown",
   "metadata": {},
   "source": [
    "# VMware EXSi Visualisations 2"
   ]
  },
  {
   "cell_type": "code",
   "execution_count": 1,
   "metadata": {},
   "outputs": [
    {
     "data": {
      "text/html": [
       "<style>.container { width:70% !important; }</style>"
      ],
      "text/plain": [
       "<IPython.core.display.HTML object>"
      ]
     },
     "metadata": {},
     "output_type": "display_data"
    }
   ],
   "source": [
    "import requests\n",
    "import pandas as pd\n",
    "import json\n",
    "import matplotlib.pyplot as plt\n",
    "from matplotlib.colors import rgb2hex\n",
    "from itertools import cycle\n",
    "from IPython.core.display import HTML\n",
    "from modules.Network import *\n",
    "from IPython.core.display import display, HTML\n",
    "display(HTML(\"<style>.container { width:70% !important; }</style>\"))"
   ]
  },
  {
   "cell_type": "code",
   "execution_count": 2,
   "metadata": {},
   "outputs": [
    {
     "data": {
      "text/html": [
       "<script>\n",
       "code_show=true; \n",
       "function code_toggle() {\n",
       " if (code_show){\n",
       " $('div.input').hide();\n",
       " } else {\n",
       " $('div.input').show();\n",
       " }\n",
       " code_show = !code_show\n",
       "} \n",
       "$( document ).ready(code_toggle);\n",
       "</script>\n",
       "<form action=\"javascript:code_toggle()\"><input type=\"submit\" value=\"Click here to toggle on/off the raw code.\"></form>"
      ],
      "text/plain": [
       "<IPython.core.display.HTML object>"
      ]
     },
     "execution_count": 2,
     "metadata": {},
     "output_type": "execute_result"
    }
   ],
   "source": [
    "HTML('''<script>\n",
    "code_show=true; \n",
    "function code_toggle() {\n",
    " if (code_show){\n",
    " $('div.input').hide();\n",
    " } else {\n",
    " $('div.input').show();\n",
    " }\n",
    " code_show = !code_show\n",
    "} \n",
    "$( document ).ready(code_toggle);\n",
    "</script>\n",
    "<form action=\"javascript:code_toggle()\"><input type=\"submit\" value=\"Click here to toggle on/off the raw code.\"></form>''')"
   ]
  },
  {
   "cell_type": "markdown",
   "metadata": {},
   "source": [
    "We get the json file with the information from: https://wmwaredata.s3.us-east-2.amazonaws.com/machines.json"
   ]
  },
  {
   "cell_type": "code",
   "execution_count": 3,
   "metadata": {},
   "outputs": [
    {
     "data": {
      "text/plain": [
       "4213"
      ]
     },
     "execution_count": 3,
     "metadata": {},
     "output_type": "execute_result"
    }
   ],
   "source": [
    "url = 'https://wmwaredata.s3.us-east-2.amazonaws.com/machines.json'\n",
    "r = requests.get(url, allow_redirects=True)\n",
    "open('data/machines.json', 'wb').write(r.content)"
   ]
  },
  {
   "cell_type": "code",
   "execution_count": 4,
   "metadata": {},
   "outputs": [
    {
     "data": {
      "text/html": [
       "<div>\n",
       "<style scoped>\n",
       "    .dataframe tbody tr th:only-of-type {\n",
       "        vertical-align: middle;\n",
       "    }\n",
       "\n",
       "    .dataframe tbody tr th {\n",
       "        vertical-align: top;\n",
       "    }\n",
       "\n",
       "    .dataframe thead th {\n",
       "        text-align: right;\n",
       "    }\n",
       "</style>\n",
       "<table border=\"1\" class=\"dataframe\">\n",
       "  <thead>\n",
       "    <tr style=\"text-align: right;\">\n",
       "      <th></th>\n",
       "      <th>BootTime</th>\n",
       "      <th>CommitedSpace</th>\n",
       "      <th>ConnectionState</th>\n",
       "      <th>CreateDate</th>\n",
       "      <th>Folder</th>\n",
       "      <th>Guest</th>\n",
       "      <th>GuestId</th>\n",
       "      <th>HardwareVersion</th>\n",
       "      <th>IPAddress</th>\n",
       "      <th>Id</th>\n",
       "      <th>...</th>\n",
       "      <th>MemoryMB</th>\n",
       "      <th>Name</th>\n",
       "      <th>Notes</th>\n",
       "      <th>NumCpu</th>\n",
       "      <th>NumVirtualDisks</th>\n",
       "      <th>PowerState</th>\n",
       "      <th>UNCommitedSpace</th>\n",
       "      <th>Uid</th>\n",
       "      <th>VMHost</th>\n",
       "      <th>Version</th>\n",
       "    </tr>\n",
       "  </thead>\n",
       "  <tbody>\n",
       "    <tr>\n",
       "      <th>0</th>\n",
       "      <td>2021-01-07 13:36:24.248327+00:00</td>\n",
       "      <td>23708312044</td>\n",
       "      <td>connected</td>\n",
       "      <td>2021-01-07 13:36:24.265589+00:00</td>\n",
       "      <td>[datastore1] OPNsense/OPNsense.vmx</td>\n",
       "      <td>OPNsense</td>\n",
       "      <td>freebsd12_64Guest</td>\n",
       "      <td>NaN</td>\n",
       "      <td>None</td>\n",
       "      <td>564d29f0-0330-cbe9-ff62-322e2a8e89b0</td>\n",
       "      <td>...</td>\n",
       "      <td>2048</td>\n",
       "      <td>OPNsense</td>\n",
       "      <td>dont_delete</td>\n",
       "      <td>2</td>\n",
       "      <td>1</td>\n",
       "      <td>poweredOn</td>\n",
       "      <td>23708312044</td>\n",
       "      <td>521d330d-04c0-11d5-be0e-7818cfbb2407</td>\n",
       "      <td>'vim.HostSystem:ha-host'</td>\n",
       "      <td>vmx-14</td>\n",
       "    </tr>\n",
       "    <tr>\n",
       "      <th>1</th>\n",
       "      <td>2021-01-07 12:46:35.839761+00:00</td>\n",
       "      <td>19411509752</td>\n",
       "      <td>connected</td>\n",
       "      <td>2021-01-07 12:56:34.440633+00:00</td>\n",
       "      <td>[datastore1] centos-testing/centos-testing.vmx</td>\n",
       "      <td>centos-testing</td>\n",
       "      <td>centos8_64Guest</td>\n",
       "      <td>NaN</td>\n",
       "      <td>91.109.25.76</td>\n",
       "      <td>564de62b-3ba3-d95e-e043-7c3c3835c472</td>\n",
       "      <td>...</td>\n",
       "      <td>2048</td>\n",
       "      <td>centos-testing</td>\n",
       "      <td>dont_delete</td>\n",
       "      <td>1</td>\n",
       "      <td>1</td>\n",
       "      <td>poweredOn</td>\n",
       "      <td>19411509752</td>\n",
       "      <td>522fb36e-4a08-5a8f-7812-1b0d1ceb535b</td>\n",
       "      <td>'vim.HostSystem:ha-host'</td>\n",
       "      <td>vmx-14</td>\n",
       "    </tr>\n",
       "    <tr>\n",
       "      <th>2</th>\n",
       "      <td>2021-01-07 20:44:42.339006+00:00</td>\n",
       "      <td>2231640568</td>\n",
       "      <td>connected</td>\n",
       "      <td>2021-01-07 20:44:42.355188+00:00</td>\n",
       "      <td>[datastore1] TestInstallation/TestInstallation...</td>\n",
       "      <td>TestInstallation</td>\n",
       "      <td>centos8_64Guest</td>\n",
       "      <td>NaN</td>\n",
       "      <td>91.109.25.81</td>\n",
       "      <td>564d403b-69bb-ef7e-07a2-e064461cea9f</td>\n",
       "      <td>...</td>\n",
       "      <td>2048</td>\n",
       "      <td>TestInstallation</td>\n",
       "      <td>dont_delete</td>\n",
       "      <td>1</td>\n",
       "      <td>1</td>\n",
       "      <td>poweredOn</td>\n",
       "      <td>2231640568</td>\n",
       "      <td>52de03ee-c829-7e4f-36e8-f5ec021d408a</td>\n",
       "      <td>'vim.HostSystem:ha-host'</td>\n",
       "      <td>vmx-14</td>\n",
       "    </tr>\n",
       "    <tr>\n",
       "      <th>3</th>\n",
       "      <td>2021-01-28 10:26:29.091690+00:00</td>\n",
       "      <td>571330083782</td>\n",
       "      <td>connected</td>\n",
       "      <td>2021-01-28 10:26:29.109800+00:00</td>\n",
       "      <td>[datastore1] logtrixia/logtrixia.vmx</td>\n",
       "      <td>logtrixia</td>\n",
       "      <td>ubuntu64Guest</td>\n",
       "      <td>NaN</td>\n",
       "      <td>91.109.26.22</td>\n",
       "      <td>564d4d69-9038-90dd-030e-102a7251d021</td>\n",
       "      <td>...</td>\n",
       "      <td>32768</td>\n",
       "      <td>logtrixia</td>\n",
       "      <td>dont_delete</td>\n",
       "      <td>8</td>\n",
       "      <td>1</td>\n",
       "      <td>poweredOn</td>\n",
       "      <td>571330083782</td>\n",
       "      <td></td>\n",
       "      <td>'vim.HostSystem:ha-host'</td>\n",
       "      <td>vmx-13</td>\n",
       "    </tr>\n",
       "    <tr>\n",
       "      <th>4</th>\n",
       "      <td>None</td>\n",
       "      <td>52428811647</td>\n",
       "      <td>connected</td>\n",
       "      <td>2021-01-21 17:50:38.270450+00:00</td>\n",
       "      <td>[datastore1] packer-proxy-rebuild/packer-proxy...</td>\n",
       "      <td>packer-proxy-rebuild</td>\n",
       "      <td>ubuntu64Guest</td>\n",
       "      <td>NaN</td>\n",
       "      <td>None</td>\n",
       "      <td></td>\n",
       "      <td>...</td>\n",
       "      <td>8192</td>\n",
       "      <td>packer-proxy-rebuild</td>\n",
       "      <td></td>\n",
       "      <td>2</td>\n",
       "      <td>1</td>\n",
       "      <td>poweredOff</td>\n",
       "      <td>52428811647</td>\n",
       "      <td></td>\n",
       "      <td>'vim.HostSystem:ha-host'</td>\n",
       "      <td>vmx-13</td>\n",
       "    </tr>\n",
       "  </tbody>\n",
       "</table>\n",
       "<p>5 rows × 22 columns</p>\n",
       "</div>"
      ],
      "text/plain": [
       "                           BootTime  CommitedSpace ConnectionState  \\\n",
       "0  2021-01-07 13:36:24.248327+00:00    23708312044       connected   \n",
       "1  2021-01-07 12:46:35.839761+00:00    19411509752       connected   \n",
       "2  2021-01-07 20:44:42.339006+00:00     2231640568       connected   \n",
       "3  2021-01-28 10:26:29.091690+00:00   571330083782       connected   \n",
       "4                              None    52428811647       connected   \n",
       "\n",
       "                         CreateDate  \\\n",
       "0  2021-01-07 13:36:24.265589+00:00   \n",
       "1  2021-01-07 12:56:34.440633+00:00   \n",
       "2  2021-01-07 20:44:42.355188+00:00   \n",
       "3  2021-01-28 10:26:29.109800+00:00   \n",
       "4  2021-01-21 17:50:38.270450+00:00   \n",
       "\n",
       "                                              Folder                 Guest  \\\n",
       "0                 [datastore1] OPNsense/OPNsense.vmx              OPNsense   \n",
       "1     [datastore1] centos-testing/centos-testing.vmx        centos-testing   \n",
       "2  [datastore1] TestInstallation/TestInstallation...      TestInstallation   \n",
       "3               [datastore1] logtrixia/logtrixia.vmx             logtrixia   \n",
       "4  [datastore1] packer-proxy-rebuild/packer-proxy...  packer-proxy-rebuild   \n",
       "\n",
       "             GuestId  HardwareVersion     IPAddress  \\\n",
       "0  freebsd12_64Guest              NaN          None   \n",
       "1    centos8_64Guest              NaN  91.109.25.76   \n",
       "2    centos8_64Guest              NaN  91.109.25.81   \n",
       "3      ubuntu64Guest              NaN  91.109.26.22   \n",
       "4      ubuntu64Guest              NaN          None   \n",
       "\n",
       "                                     Id  ...  MemoryMB                  Name  \\\n",
       "0  564d29f0-0330-cbe9-ff62-322e2a8e89b0  ...      2048              OPNsense   \n",
       "1  564de62b-3ba3-d95e-e043-7c3c3835c472  ...      2048        centos-testing   \n",
       "2  564d403b-69bb-ef7e-07a2-e064461cea9f  ...      2048      TestInstallation   \n",
       "3  564d4d69-9038-90dd-030e-102a7251d021  ...     32768             logtrixia   \n",
       "4                                        ...      8192  packer-proxy-rebuild   \n",
       "\n",
       "         Notes NumCpu NumVirtualDisks  PowerState  UNCommitedSpace  \\\n",
       "0  dont_delete      2               1   poweredOn      23708312044   \n",
       "1  dont_delete      1               1   poweredOn      19411509752   \n",
       "2  dont_delete      1               1   poweredOn       2231640568   \n",
       "3  dont_delete      8               1   poweredOn     571330083782   \n",
       "4                   2               1  poweredOff      52428811647   \n",
       "\n",
       "                                    Uid                    VMHost Version  \n",
       "0  521d330d-04c0-11d5-be0e-7818cfbb2407  'vim.HostSystem:ha-host'  vmx-14  \n",
       "1  522fb36e-4a08-5a8f-7812-1b0d1ceb535b  'vim.HostSystem:ha-host'  vmx-14  \n",
       "2  52de03ee-c829-7e4f-36e8-f5ec021d408a  'vim.HostSystem:ha-host'  vmx-14  \n",
       "3                                        'vim.HostSystem:ha-host'  vmx-13  \n",
       "4                                        'vim.HostSystem:ha-host'  vmx-13  \n",
       "\n",
       "[5 rows x 22 columns]"
      ]
     },
     "execution_count": 4,
     "metadata": {},
     "output_type": "execute_result"
    }
   ],
   "source": [
    "json_file = 'data/machines.json' \n",
    "df = pd.read_json(json_file)\n",
    "df"
   ]
  },
  {
   "cell_type": "markdown",
   "metadata": {},
   "source": [
    "## Option 1:  A subnetwork for each VM"
   ]
  },
  {
   "cell_type": "code",
   "execution_count": 5,
   "metadata": {},
   "outputs": [],
   "source": [
    "# CREATE JSON FILE WITH NODES AND EDGES\n",
    "\n",
    "network = Network()\n",
    "\n",
    "network.groups = ['Name', 'GuestId', 'NumCpu', 'MemoryMB', 'PowerState', 'HardwareVersion', 'Version', 'ConnectionState']\n",
    "\n",
    "\n",
    "#colors = []\n",
    "#for k in range(len(df)):\n",
    "#    colors.append(rgb2hex(plt.cm.plasma(13*k)))\n",
    "\n",
    "pastels = []\n",
    "for k in range(9):\n",
    "    pastels.append(rgb2hex(plt.cm.Pastel1(k)))\n",
    "for k in range(8):\n",
    "    pastels.append(rgb2hex(plt.cm.Pastel2(k)))\n",
    "\n",
    "colors = []\n",
    "for i, color in zip(range(len(df)), cycle(pastels)):\n",
    "    colors.append(color)\n",
    "    \n",
    "    \n",
    "for i, color in zip(range(len(df)), colors):\n",
    "    # NODES   \n",
    "    labels = []\n",
    "    \n",
    "    label = df.iloc[i]['Name'] + \"\\n\" + df.iloc[i]['Id']\n",
    "    labels.append(label)\n",
    "    network.add_node(label, color=color, shape='box', repeat_nodes=True)\n",
    "    \n",
    "    for group in network.groups[1:]:\n",
    "        label = group + ':\\n' + str(df.iloc[i][group])\n",
    "        labels.append(label)\n",
    "        network.add_node(label, color=color, repeat_nodes=True)\n",
    "        \n",
    "    #label = 'VMResourceConfiguration:\\n' + wrap_by_word(df.iloc[i]['VMResourceConfiguration'], n=1)\n",
    "    #labels.append(label)\n",
    "    #network.add_node(label, color=color, shape='box', repeat_nodes=True)   \n",
    "    \n",
    "    # EDGES\n",
    "    for label in labels[1:]:\n",
    "        network.add_edge(network.nodesIds[labels[0]][-1], network.nodesIds[label][-1])\n",
    "        \n",
    "\n",
    "network.save_to_json('data/nodes_edges_3.json')"
   ]
  },
  {
   "cell_type": "code",
   "execution_count": 6,
   "metadata": {},
   "outputs": [
    {
     "data": {
      "text/html": [
       "<div id=\"mynetwork\"></div>\n"
      ],
      "text/plain": [
       "<IPython.core.display.HTML object>"
      ]
     },
     "metadata": {},
     "output_type": "display_data"
    }
   ],
   "source": [
    "%%html\n",
    "<div id=\"mynetwork\"></div>"
   ]
  },
  {
   "cell_type": "code",
   "execution_count": 7,
   "metadata": {},
   "outputs": [
    {
     "data": {
      "application/javascript": [
       "requirejs.config({\n",
       "    paths: {\n",
       "        vis: 'vis'\n",
       "    }\n",
       "});\n",
       "\n",
       "\n",
       "require(['vis'], function(vis){ \n",
       "    \n",
       "    var json = $.getJSON(\"data/nodes_edges_3.json\")\n",
       "      .done(function(data){\n",
       "        var data = {\n",
       "          nodes: data.nodes,\n",
       "          edges: data.edges\n",
       "        };\n",
       "        var network = new vis.Network(container, data, options);\n",
       "      });\n",
       "       \n",
       "    var options = {      \n",
       "      width: '1200px',\n",
       "      height: '1000px',\n",
       "      locale: 'en',\n",
       "      physics: true,\n",
       "      interaction: {\n",
       "        hover:true, \n",
       "        tooltipDelay: 300\n",
       "      },        \n",
       "      layout: {\n",
       "        randomSeed: 1,\n",
       "        improvedLayout: true,\n",
       "      }\n",
       "    };    \n",
       "    \n",
       "    var container = document.getElementById(\"mynetwork\");\n",
       "});\n"
      ],
      "text/plain": [
       "<IPython.core.display.Javascript object>"
      ]
     },
     "metadata": {},
     "output_type": "display_data"
    }
   ],
   "source": [
    "%%javascript\n",
    "requirejs.config({\n",
    "    paths: {\n",
    "        vis: 'vis'\n",
    "    }\n",
    "});\n",
    "\n",
    "\n",
    "require(['vis'], function(vis){ \n",
    "    \n",
    "    var json = $.getJSON(\"data/nodes_edges_3.json\")\n",
    "      .done(function(data){\n",
    "        var data = {\n",
    "          nodes: data.nodes,\n",
    "          edges: data.edges\n",
    "        };\n",
    "        var network = new vis.Network(container, data, options);\n",
    "      });\n",
    "       \n",
    "    var options = {      \n",
    "      width: '1200px',\n",
    "      height: '1000px',\n",
    "      locale: 'en',\n",
    "      physics: true,\n",
    "      interaction: {\n",
    "        hover:true, \n",
    "        tooltipDelay: 300\n",
    "      },        \n",
    "      layout: {\n",
    "        randomSeed: 1,\n",
    "        improvedLayout: true,\n",
    "      }\n",
    "    };    \n",
    "    \n",
    "    var container = document.getElementById(\"mynetwork\");\n",
    "});"
   ]
  },
  {
   "cell_type": "markdown",
   "metadata": {},
   "source": [
    "## Option 2: Connect all subnetworks to VMHost node"
   ]
  },
  {
   "cell_type": "code",
   "execution_count": 8,
   "metadata": {},
   "outputs": [],
   "source": [
    "# CREATE JSON FILE WITH NODES AND EDGES\n",
    "\n",
    "network = Network()\n",
    "\n",
    "network.groups = ['Name', 'GuestId', 'NumCpu', 'MemoryMB', 'PowerState', 'HardwareVersion', 'Version', 'ConnectionState']\n",
    "\n",
    "    \n",
    "name_labels = []\n",
    "for i, color in zip(range(len(df)), colors):\n",
    "    # NODES   \n",
    "    labels = []\n",
    "    \n",
    "    label = df.iloc[i]['Name'] + \"\\n\" + df.iloc[i]['Id']\n",
    "    labels.append(label)\n",
    "    name_labels.append(label)\n",
    "    network.add_node(label, color=color, shape='box', repeat_nodes=True)\n",
    "    \n",
    "    for group in network.groups[1:]:\n",
    "        label = group + ':\\n' + str(df.iloc[i][group])\n",
    "        labels.append(label)\n",
    "        network.add_node(label, color=color, repeat_nodes=True)\n",
    "        \n",
    "    #label = 'VMResourceConfiguration:\\n' + wrap_by_word(df.iloc[i]['VMResourceConfiguration'], n=1)\n",
    "    #labels.append(label)\n",
    "    #network.add_node(label, color=color, shape='box', repeat_nodes=True)   \n",
    "    \n",
    "    # EDGES\n",
    "    for label in labels[1:]:\n",
    "        network.add_edge(network.nodesIds[labels[0]][-1], network.nodesIds[label][-1])\n",
    "        \n",
    "if is_unique(df['VMHost']):\n",
    "    \n",
    "    # Host Node\n",
    "    host_label = 'VMHost:\\n' + df.iloc[0]['VMHost']\n",
    "    network.add_node(label=host_label, color=\"#5CD6D6\", shape='box')\n",
    "    \n",
    "    # Conect Host node to all VMs\n",
    "    for label in name_labels:\n",
    "        network.add_edge(network.nodesIds[host_label][0], network.nodesIds[label][0], color=\"#5CD6D6\", arrows=\"\")       \n",
    "\n",
    "network.save_to_json('data/nodes_edges_4.json')"
   ]
  },
  {
   "cell_type": "code",
   "execution_count": 9,
   "metadata": {},
   "outputs": [
    {
     "data": {
      "text/html": [
       "<div id=\"mynetwork2\"></div>\n"
      ],
      "text/plain": [
       "<IPython.core.display.HTML object>"
      ]
     },
     "metadata": {},
     "output_type": "display_data"
    }
   ],
   "source": [
    "%%html\n",
    "<div id=\"mynetwork2\"></div>"
   ]
  },
  {
   "cell_type": "code",
   "execution_count": 10,
   "metadata": {},
   "outputs": [
    {
     "data": {
      "application/javascript": [
       "requirejs.config({\n",
       "    paths: {\n",
       "        vis: 'vis'\n",
       "    }\n",
       "});\n",
       "\n",
       "\n",
       "require(['vis'], function(vis){ \n",
       "    \n",
       "    var json = $.getJSON(\"data/nodes_edges_4.json\")\n",
       "      .done(function(data){\n",
       "        var data = {\n",
       "          nodes: data.nodes,\n",
       "          edges: data.edges\n",
       "        };\n",
       "        var network = new vis.Network(container, data, options);\n",
       "      });\n",
       "       \n",
       "    var options = {      \n",
       "      width: '1200px',\n",
       "      height: '1000px',\n",
       "      locale: 'en',\n",
       "      physics: true,\n",
       "      interaction: {\n",
       "        hover:true, \n",
       "        tooltipDelay: 300\n",
       "      },        \n",
       "      layout: {\n",
       "        randomSeed: 1,\n",
       "        improvedLayout: true,\n",
       "      }\n",
       "    };    \n",
       "    \n",
       "    var container = document.getElementById(\"mynetwork2\");\n",
       "});\n"
      ],
      "text/plain": [
       "<IPython.core.display.Javascript object>"
      ]
     },
     "metadata": {},
     "output_type": "display_data"
    }
   ],
   "source": [
    "%%javascript\n",
    "requirejs.config({\n",
    "    paths: {\n",
    "        vis: 'vis'\n",
    "    }\n",
    "});\n",
    "\n",
    "\n",
    "require(['vis'], function(vis){ \n",
    "    \n",
    "    var json = $.getJSON(\"data/nodes_edges_4.json\")\n",
    "      .done(function(data){\n",
    "        var data = {\n",
    "          nodes: data.nodes,\n",
    "          edges: data.edges\n",
    "        };\n",
    "        var network = new vis.Network(container, data, options);\n",
    "      });\n",
    "       \n",
    "    var options = {      \n",
    "      width: '1200px',\n",
    "      height: '1000px',\n",
    "      locale: 'en',\n",
    "      physics: true,\n",
    "      interaction: {\n",
    "        hover:true, \n",
    "        tooltipDelay: 300\n",
    "      },        \n",
    "      layout: {\n",
    "        randomSeed: 1,\n",
    "        improvedLayout: true,\n",
    "      }\n",
    "    };    \n",
    "    \n",
    "    var container = document.getElementById(\"mynetwork2\");\n",
    "});"
   ]
  }
 ],
 "metadata": {
  "kernelspec": {
   "display_name": "Python 3",
   "language": "python",
   "name": "python3"
  },
  "language_info": {
   "codemirror_mode": {
    "name": "ipython",
    "version": 3
   },
   "file_extension": ".py",
   "mimetype": "text/x-python",
   "name": "python",
   "nbconvert_exporter": "python",
   "pygments_lexer": "ipython3",
   "version": "3.8.5"
  }
 },
 "nbformat": 4,
 "nbformat_minor": 4
}
