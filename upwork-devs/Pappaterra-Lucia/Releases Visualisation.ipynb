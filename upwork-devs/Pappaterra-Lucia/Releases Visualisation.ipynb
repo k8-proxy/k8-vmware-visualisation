{
 "cells": [
  {
   "cell_type": "markdown",
   "metadata": {},
   "source": [
    "# Releases Visualisation"
   ]
  },
  {
   "cell_type": "code",
   "execution_count": 1,
   "metadata": {},
   "outputs": [
    {
     "data": {
      "text/html": [
       "<style>.container { width:70% !important; }</style>"
      ],
      "text/plain": [
       "<IPython.core.display.HTML object>"
      ]
     },
     "metadata": {},
     "output_type": "display_data"
    }
   ],
   "source": [
    "import requests\n",
    "import pandas as pd\n",
    "import re\n",
    "import json\n",
    "from IPython.core.display import display, HTML\n",
    "from modules.Network import *\n",
    "display(HTML(\"<style>.container { width:70% !important; }</style>\"))"
   ]
  },
  {
   "cell_type": "code",
   "execution_count": 2,
   "metadata": {},
   "outputs": [
    {
     "data": {
      "text/html": [
       "<script>\n",
       "code_show=true; \n",
       "function code_toggle() {\n",
       " if (code_show){\n",
       " $('div.input').hide();\n",
       " } else {\n",
       " $('div.input').show();\n",
       " }\n",
       " code_show = !code_show\n",
       "} \n",
       "$( document ).ready(code_toggle);\n",
       "</script>\n",
       "<form action=\"javascript:code_toggle()\"><input type=\"submit\" value=\"Click here to toggle on/off the raw code.\"></form>"
      ],
      "text/plain": [
       "<IPython.core.display.HTML object>"
      ]
     },
     "execution_count": 2,
     "metadata": {},
     "output_type": "execute_result"
    }
   ],
   "source": [
    "HTML('''<script>\n",
    "code_show=true; \n",
    "function code_toggle() {\n",
    " if (code_show){\n",
    " $('div.input').hide();\n",
    " } else {\n",
    " $('div.input').show();\n",
    " }\n",
    " code_show = !code_show\n",
    "} \n",
    "$( document ).ready(code_toggle);\n",
    "</script>\n",
    "<form action=\"javascript:code_toggle()\"><input type=\"submit\" value=\"Click here to toggle on/off the raw code.\"></form>''')"
   ]
  },
  {
   "cell_type": "markdown",
   "metadata": {},
   "source": [
    "We get the json file with the information from\n",
    "https://wmwaredata.s3.us-east-2.amazonaws.com/releases.json"
   ]
  },
  {
   "cell_type": "code",
   "execution_count": 3,
   "metadata": {},
   "outputs": [
    {
     "data": {
      "text/plain": [
       "40979"
      ]
     },
     "execution_count": 3,
     "metadata": {},
     "output_type": "execute_result"
    }
   ],
   "source": [
    "url = 'https://wmwaredata.s3.us-east-2.amazonaws.com/releases.json'\n",
    "r = requests.get(url, allow_redirects=True)\n",
    "open('data/releases.json', 'wb').write(r.content)"
   ]
  },
  {
   "cell_type": "code",
   "execution_count": 4,
   "metadata": {
    "scrolled": true
   },
   "outputs": [
    {
     "data": {
      "text/html": [
       "<div>\n",
       "<style scoped>\n",
       "    .dataframe tbody tr th:only-of-type {\n",
       "        vertical-align: middle;\n",
       "    }\n",
       "\n",
       "    .dataframe tbody tr th {\n",
       "        vertical-align: top;\n",
       "    }\n",
       "\n",
       "    .dataframe thead th {\n",
       "        text-align: right;\n",
       "    }\n",
       "</style>\n",
       "<table border=\"1\" class=\"dataframe\">\n",
       "  <thead>\n",
       "    <tr style=\"text-align: right;\">\n",
       "      <th></th>\n",
       "      <th>repo_name</th>\n",
       "      <th>repo_url</th>\n",
       "      <th>release_tag</th>\n",
       "      <th>release_date</th>\n",
       "      <th>description</th>\n",
       "    </tr>\n",
       "  </thead>\n",
       "  <tbody>\n",
       "    <tr>\n",
       "      <th>0</th>\n",
       "      <td>GW-proxy</td>\n",
       "      <td>https://github.com/k8-proxy/GW-proxy</td>\n",
       "      <td>v0.5.1</td>\n",
       "      <td>2021-01-08T16:40:48Z</td>\n",
       "      <td></td>\n",
       "    </tr>\n",
       "    <tr>\n",
       "      <th>1</th>\n",
       "      <td>k8-reverse-proxy</td>\n",
       "      <td>https://github.com/k8-proxy/k8-reverse-proxy</td>\n",
       "      <td>v0.1.0</td>\n",
       "      <td>2020-10-26T13:40:49Z</td>\n",
       "      <td></td>\n",
       "    </tr>\n",
       "    <tr>\n",
       "      <th>2</th>\n",
       "      <td>k8-test-data</td>\n",
       "      <td>https://github.com/k8-proxy/k8-test-data</td>\n",
       "      <td>k-8-test-data-v0.4</td>\n",
       "      <td>2020-10-29T22:34:08Z</td>\n",
       "      <td>* Processed 18k gov uk\\nsite files via test da...</td>\n",
       "    </tr>\n",
       "    <tr>\n",
       "      <th>3</th>\n",
       "      <td>k8-test-data</td>\n",
       "      <td>https://github.com/k8-proxy/k8-test-data</td>\n",
       "      <td>k-8-test-data-v0.3</td>\n",
       "      <td>2020-10-14T10:27:07Z</td>\n",
       "      <td>### Features * Integration of\\nDistribution Ap...</td>\n",
       "    </tr>\n",
       "    <tr>\n",
       "      <th>4</th>\n",
       "      <td>k8-test-data</td>\n",
       "      <td>https://github.com/k8-proxy/k8-test-data</td>\n",
       "      <td>k-8-test-data-v0.2</td>\n",
       "      <td>2020-10-06T16:00:25Z</td>\n",
       "      <td>## Features * Web scraping\\nfor below sites ha...</td>\n",
       "    </tr>\n",
       "    <tr>\n",
       "      <th>...</th>\n",
       "      <td>...</td>\n",
       "      <td>...</td>\n",
       "      <td>...</td>\n",
       "      <td>...</td>\n",
       "      <td>...</td>\n",
       "    </tr>\n",
       "    <tr>\n",
       "      <th>74</th>\n",
       "      <td>GW-Releases</td>\n",
       "      <td>https://github.com/k8-proxy/GW-Releases</td>\n",
       "      <td>v0.5.1</td>\n",
       "      <td>2021-01-12T14:17:23Z</td>\n",
       "      <td>Release V5.1.0 contains the following\\ntested ...</td>\n",
       "    </tr>\n",
       "    <tr>\n",
       "      <th>75</th>\n",
       "      <td>k8-rebuild-folder-to-folder</td>\n",
       "      <td>https://github.com/k8-proxy/k8-rebuild-folder-...</td>\n",
       "      <td>v0.1.1</td>\n",
       "      <td>2021-02-03T14:49:50Z</td>\n",
       "      <td>Fixes on v0.1.1: 1.- Some\\nzip files were not ...</td>\n",
       "    </tr>\n",
       "    <tr>\n",
       "      <th>76</th>\n",
       "      <td>k8-rebuild-folder-to-folder</td>\n",
       "      <td>https://github.com/k8-proxy/k8-rebuild-folder-...</td>\n",
       "      <td>v0.1.0</td>\n",
       "      <td>2021-01-26T09:24:51Z</td>\n",
       "      <td>The initial docker version of\\nk8-rebuild fold...</td>\n",
       "    </tr>\n",
       "    <tr>\n",
       "      <th>77</th>\n",
       "      <td>icap-client</td>\n",
       "      <td>https://github.com/k8-proxy/icap-client</td>\n",
       "      <td>v0.2.1</td>\n",
       "      <td>2021-02-17T19:33:50Z</td>\n",
       "      <td></td>\n",
       "    </tr>\n",
       "    <tr>\n",
       "      <th>78</th>\n",
       "      <td>icap-client</td>\n",
       "      <td>https://github.com/k8-proxy/icap-client</td>\n",
       "      <td>v0.2.0</td>\n",
       "      <td>2021-02-17T19:17:51Z</td>\n",
       "      <td></td>\n",
       "    </tr>\n",
       "  </tbody>\n",
       "</table>\n",
       "<p>79 rows × 5 columns</p>\n",
       "</div>"
      ],
      "text/plain": [
       "                      repo_name  \\\n",
       "0                      GW-proxy   \n",
       "1              k8-reverse-proxy   \n",
       "2                  k8-test-data   \n",
       "3                  k8-test-data   \n",
       "4                  k8-test-data   \n",
       "..                          ...   \n",
       "74                  GW-Releases   \n",
       "75  k8-rebuild-folder-to-folder   \n",
       "76  k8-rebuild-folder-to-folder   \n",
       "77                  icap-client   \n",
       "78                  icap-client   \n",
       "\n",
       "                                             repo_url         release_tag  \\\n",
       "0                https://github.com/k8-proxy/GW-proxy              v0.5.1   \n",
       "1        https://github.com/k8-proxy/k8-reverse-proxy              v0.1.0   \n",
       "2            https://github.com/k8-proxy/k8-test-data  k-8-test-data-v0.4   \n",
       "3            https://github.com/k8-proxy/k8-test-data  k-8-test-data-v0.3   \n",
       "4            https://github.com/k8-proxy/k8-test-data  k-8-test-data-v0.2   \n",
       "..                                                ...                 ...   \n",
       "74            https://github.com/k8-proxy/GW-Releases              v0.5.1   \n",
       "75  https://github.com/k8-proxy/k8-rebuild-folder-...              v0.1.1   \n",
       "76  https://github.com/k8-proxy/k8-rebuild-folder-...              v0.1.0   \n",
       "77            https://github.com/k8-proxy/icap-client              v0.2.1   \n",
       "78            https://github.com/k8-proxy/icap-client              v0.2.0   \n",
       "\n",
       "            release_date                                        description  \n",
       "0   2021-01-08T16:40:48Z                                                     \n",
       "1   2020-10-26T13:40:49Z                                                     \n",
       "2   2020-10-29T22:34:08Z  * Processed 18k gov uk\\nsite files via test da...  \n",
       "3   2020-10-14T10:27:07Z  ### Features * Integration of\\nDistribution Ap...  \n",
       "4   2020-10-06T16:00:25Z  ## Features * Web scraping\\nfor below sites ha...  \n",
       "..                   ...                                                ...  \n",
       "74  2021-01-12T14:17:23Z  Release V5.1.0 contains the following\\ntested ...  \n",
       "75  2021-02-03T14:49:50Z  Fixes on v0.1.1: 1.- Some\\nzip files were not ...  \n",
       "76  2021-01-26T09:24:51Z  The initial docker version of\\nk8-rebuild fold...  \n",
       "77  2021-02-17T19:33:50Z                                                     \n",
       "78  2021-02-17T19:17:51Z                                                     \n",
       "\n",
       "[79 rows x 5 columns]"
      ]
     },
     "execution_count": 4,
     "metadata": {},
     "output_type": "execute_result"
    }
   ],
   "source": [
    "df = pd.read_json('data/releases.json')\n",
    "\n",
    "descriptions = []\n",
    "for i in range(len(df)):\n",
    "    content = re.sub('<.*?>', '', df['release_name'].iloc[i])\n",
    "    des = wrap_by_word(content, n=5)\n",
    "    des = wrap_by_char(des, n=45)\n",
    "    descriptions.append(des)\n",
    "    \n",
    "df['description'] = descriptions\n",
    "df = df.drop('release_name', axis=1)\n",
    "df = df.rename(columns={'repo_repo': 'repo_name'})\n",
    "df = df[['repo_name', 'repo_url', 'release_tag', 'release_date', 'description']]\n",
    "df"
   ]
  },
  {
   "cell_type": "markdown",
   "metadata": {},
   "source": [
    "## Repo's Releases"
   ]
  },
  {
   "cell_type": "code",
   "execution_count": 5,
   "metadata": {},
   "outputs": [],
   "source": [
    "# CREATE JSON FILE WITH NODES AND EDGES\n",
    "\n",
    "network = Network()\n",
    "network.groups = ['Repo', 'Tag', 'Date', 'Description']\n",
    "network.groupSettings = group_settings_R\n",
    "\n",
    "for repo in set(list(df['repo_name'])):\n",
    "    \n",
    "    # REPO\n",
    "    network.add_node(label=repo, group='Repo')\n",
    "    df1 = df[df['repo_name'] == repo].reset_index()\n",
    "    \n",
    "    for i in range(len(df1)):\n",
    "        # TAG\n",
    "        tag = 'Tag: ' + df1['release_tag'].iloc[i] \n",
    "        network.add_node(label=tag, group='Tag', repeat_nodes=True)\n",
    "        network.add_edge(network.nodesIds[repo][0], network.nodesIds[tag][-1])\n",
    "        df2 = df1[df1['release_tag'] == tag].reset_index()\n",
    "        \n",
    "        # DATE\n",
    "        d = df1['release_date'].iloc[i]\n",
    "        \n",
    "        if d is not None:\n",
    "            d = d.split('T')\n",
    "            date = 'Date: '+ d[0] + '\\nTime: ' + d[1][:-1]\n",
    "        else:\n",
    "            date = ''\n",
    "        \n",
    "        network.add_node(label=date, group='Date', repeat_nodes=True)\n",
    "        network.add_edge(network.nodesIds[tag][-1], network.nodesIds[date][-1])\n",
    "        \n",
    "        # DESCRIPTION\n",
    "        des = df1['description'].iloc[i]\n",
    "        if des != '':\n",
    "            network.add_node(label=des, group='Description', repeat_nodes=True)\n",
    "            network.add_edge(network.nodesIds[date][-1], network.nodesIds[des][-1])\n",
    "    \n",
    "network.save_to_json('data/releases_nodes_edges.json')"
   ]
  },
  {
   "cell_type": "code",
   "execution_count": 6,
   "metadata": {},
   "outputs": [
    {
     "data": {
      "text/html": [
       "<div id=\"mynetwork\"></div>\n"
      ],
      "text/plain": [
       "<IPython.core.display.HTML object>"
      ]
     },
     "metadata": {},
     "output_type": "display_data"
    }
   ],
   "source": [
    "%%html\n",
    "<div id=\"mynetwork\"></div>"
   ]
  },
  {
   "cell_type": "code",
   "execution_count": 7,
   "metadata": {},
   "outputs": [
    {
     "data": {
      "application/javascript": [
       "requirejs.config({\n",
       "    paths: {\n",
       "        vis: 'vis'\n",
       "    }\n",
       "});\n",
       "\n",
       "\n",
       "require(['vis'], function(vis){ \n",
       "    \n",
       "    var json = $.getJSON(\"data/releases_nodes_edges.json\")\n",
       "      .done(function(data){\n",
       "        var data = {\n",
       "          nodes: data.nodes,\n",
       "          edges: data.edges\n",
       "        };\n",
       "        var network = new vis.Network(container, data, options);\n",
       "      });\n",
       "       \n",
       "    var options = {      \n",
       "      width: '1000px',\n",
       "      height: '800px',\n",
       "      locale: 'en',\n",
       "      physics: true,\n",
       "      interaction: {\n",
       "        hover:true, \n",
       "        tooltipDelay: 300\n",
       "      },        \n",
       "      layout: {\n",
       "        randomSeed: 1,\n",
       "        improvedLayout: true,\n",
       "      }\n",
       "    };    \n",
       "    \n",
       "    var container = document.getElementById(\"mynetwork\");\n",
       "});\n"
      ],
      "text/plain": [
       "<IPython.core.display.Javascript object>"
      ]
     },
     "metadata": {},
     "output_type": "display_data"
    }
   ],
   "source": [
    "%%javascript\n",
    "requirejs.config({\n",
    "    paths: {\n",
    "        vis: 'vis'\n",
    "    }\n",
    "});\n",
    "\n",
    "\n",
    "require(['vis'], function(vis){ \n",
    "    \n",
    "    var json = $.getJSON(\"data/releases_nodes_edges.json\")\n",
    "      .done(function(data){\n",
    "        var data = {\n",
    "          nodes: data.nodes,\n",
    "          edges: data.edges\n",
    "        };\n",
    "        var network = new vis.Network(container, data, options);\n",
    "      });\n",
    "       \n",
    "    var options = {      \n",
    "      width: '1000px',\n",
    "      height: '800px',\n",
    "      locale: 'en',\n",
    "      physics: true,\n",
    "      interaction: {\n",
    "        hover:true, \n",
    "        tooltipDelay: 300\n",
    "      },        \n",
    "      layout: {\n",
    "        randomSeed: 1,\n",
    "        improvedLayout: true,\n",
    "      }\n",
    "    };    \n",
    "    \n",
    "    var container = document.getElementById(\"mynetwork\");\n",
    "});"
   ]
  }
 ],
 "metadata": {
  "kernelspec": {
   "display_name": "Python 3",
   "language": "python",
   "name": "python3"
  },
  "language_info": {
   "codemirror_mode": {
    "name": "ipython",
    "version": 3
   },
   "file_extension": ".py",
   "mimetype": "text/x-python",
   "name": "python",
   "nbconvert_exporter": "python",
   "pygments_lexer": "ipython3",
   "version": "3.8.5"
  }
 },
 "nbformat": 4,
 "nbformat_minor": 4
}
