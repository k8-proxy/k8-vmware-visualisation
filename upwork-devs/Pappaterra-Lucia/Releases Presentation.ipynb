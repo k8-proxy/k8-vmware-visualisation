{
 "cells": [
  {
   "cell_type": "markdown",
   "metadata": {},
   "source": [
    "# Releases Presentation"
   ]
  },
  {
   "cell_type": "code",
   "execution_count": 1,
   "metadata": {},
   "outputs": [],
   "source": [
    "%%capture\n",
    "import sys\n",
    "!{sys.executable} -m pip install google-auth-oauthlib\n",
    "!{sys.executable} -m pip install google-api-python-client\n",
    "!{sys.executable} -m pip install xhtml2pdf\n",
    "!{sys.executable} -m pip install pdfrw"
   ]
  },
  {
   "cell_type": "code",
   "execution_count": 2,
   "metadata": {},
   "outputs": [
    {
     "data": {
      "text/html": [
       "<style>.container { width:70% !important; }</style>"
      ],
      "text/plain": [
       "<IPython.core.display.HTML object>"
      ]
     },
     "metadata": {},
     "output_type": "display_data"
    }
   ],
   "source": [
    "import requests\n",
    "import pandas as pd\n",
    "import re\n",
    "from modules.Presentations import *\n",
    "from IPython.core.display import display, HTML\n",
    "display(HTML(\"<style>.container { width:70% !important; }</style>\"))"
   ]
  },
  {
   "cell_type": "code",
   "execution_count": 3,
   "metadata": {},
   "outputs": [
    {
     "data": {
      "text/html": [
       "<script>\n",
       "code_show=true; \n",
       "function code_toggle() {\n",
       " if (code_show){\n",
       " $('div.input').hide();\n",
       " } else {\n",
       " $('div.input').show();\n",
       " }\n",
       " code_show = !code_show\n",
       "} \n",
       "$( document ).ready(code_toggle);\n",
       "</script>\n",
       "<form action=\"javascript:code_toggle()\"><input type=\"submit\" value=\"Click here to toggle on/off the raw code.\"></form>"
      ],
      "text/plain": [
       "<IPython.core.display.HTML object>"
      ]
     },
     "execution_count": 3,
     "metadata": {},
     "output_type": "execute_result"
    }
   ],
   "source": [
    "HTML('''<script>\n",
    "code_show=true; \n",
    "function code_toggle() {\n",
    " if (code_show){\n",
    " $('div.input').hide();\n",
    " } else {\n",
    " $('div.input').show();\n",
    " }\n",
    " code_show = !code_show\n",
    "} \n",
    "$( document ).ready(code_toggle);\n",
    "</script>\n",
    "<form action=\"javascript:code_toggle()\"><input type=\"submit\" value=\"Click here to toggle on/off the raw code.\"></form>''')"
   ]
  },
  {
   "cell_type": "markdown",
   "metadata": {},
   "source": [
    "We get the json file with the information from\n",
    "https://wmwaredata.s3.us-east-2.amazonaws.com/releases.json"
   ]
  },
  {
   "cell_type": "code",
   "execution_count": 4,
   "metadata": {},
   "outputs": [
    {
     "data": {
      "text/plain": [
       "43541"
      ]
     },
     "execution_count": 4,
     "metadata": {},
     "output_type": "execute_result"
    }
   ],
   "source": [
    "url = 'https://wmwaredata.s3.us-east-2.amazonaws.com/releases.json'\n",
    "r = requests.get(url, allow_redirects=True)\n",
    "open('data/releases.json', 'wb').write(r.content)"
   ]
  },
  {
   "cell_type": "code",
   "execution_count": 5,
   "metadata": {},
   "outputs": [
    {
     "data": {
      "text/html": [
       "<div>\n",
       "<style scoped>\n",
       "    .dataframe tbody tr th:only-of-type {\n",
       "        vertical-align: middle;\n",
       "    }\n",
       "\n",
       "    .dataframe tbody tr th {\n",
       "        vertical-align: top;\n",
       "    }\n",
       "\n",
       "    .dataframe thead th {\n",
       "        text-align: right;\n",
       "    }\n",
       "</style>\n",
       "<table border=\"1\" class=\"dataframe\">\n",
       "  <thead>\n",
       "    <tr style=\"text-align: right;\">\n",
       "      <th></th>\n",
       "      <th>Repo</th>\n",
       "      <th>Tag</th>\n",
       "      <th>Date</th>\n",
       "      <th>Description</th>\n",
       "    </tr>\n",
       "  </thead>\n",
       "  <tbody>\n",
       "    <tr>\n",
       "      <th>0</th>\n",
       "      <td>GW-proxy\\n\\nhttps://github.com/k8-proxy/GW-proxy</td>\n",
       "      <td>v0.5.2</td>\n",
       "      <td>2021-02-22\\n\\n13:57:35</td>\n",
       "      <td></td>\n",
       "    </tr>\n",
       "    <tr>\n",
       "      <th>1</th>\n",
       "      <td>GW-proxy\\n\\nhttps://github.com/k8-proxy/GW-proxy</td>\n",
       "      <td>v0.5.1</td>\n",
       "      <td>2021-01-08\\n\\n16:40:48</td>\n",
       "      <td></td>\n",
       "    </tr>\n",
       "    <tr>\n",
       "      <th>2</th>\n",
       "      <td>k8-reverse-proxy\\n\\nhttps://github.com/k8-prox...</td>\n",
       "      <td>v0.1.0</td>\n",
       "      <td>2020-10-26\\n\\n13:40:49</td>\n",
       "      <td></td>\n",
       "    </tr>\n",
       "    <tr>\n",
       "      <th>3</th>\n",
       "      <td>k8-test-data\\n\\nhttps://github.com/k8-proxy/k8...</td>\n",
       "      <td>k-8-test-data-v0.4</td>\n",
       "      <td>2020-10-29\\n\\n22:34:08</td>\n",
       "      <td>* Processed 18k gov uk site files via test dat...</td>\n",
       "    </tr>\n",
       "    <tr>\n",
       "      <th>4</th>\n",
       "      <td>k8-test-data\\n\\nhttps://github.com/k8-proxy/k8...</td>\n",
       "      <td>k-8-test-data-v0.3</td>\n",
       "      <td>2020-10-14\\n\\n10:27:07</td>\n",
       "      <td>### Features * Integration of Distribution Api...</td>\n",
       "    </tr>\n",
       "    <tr>\n",
       "      <th>...</th>\n",
       "      <td>...</td>\n",
       "      <td>...</td>\n",
       "      <td>...</td>\n",
       "      <td>...</td>\n",
       "    </tr>\n",
       "    <tr>\n",
       "      <th>82</th>\n",
       "      <td>k8-rebuild-folder-to-folder\\n\\nhttps://github....</td>\n",
       "      <td>v0.1.2</td>\n",
       "      <td>2021-02-22\\n\\n15:30:13</td>\n",
       "      <td></td>\n",
       "    </tr>\n",
       "    <tr>\n",
       "      <th>83</th>\n",
       "      <td>k8-rebuild-folder-to-folder\\n\\nhttps://github....</td>\n",
       "      <td>v0.1.1</td>\n",
       "      <td>2021-02-03\\n\\n14:49:50</td>\n",
       "      <td>Fixes on v0.1.1: 1.- Some zip files were not p...</td>\n",
       "    </tr>\n",
       "    <tr>\n",
       "      <th>84</th>\n",
       "      <td>k8-rebuild-folder-to-folder\\n\\nhttps://github....</td>\n",
       "      <td>v0.1.0</td>\n",
       "      <td>2021-01-26\\n\\n09:24:51</td>\n",
       "      <td>The initial docker version of k8-rebuild folde...</td>\n",
       "    </tr>\n",
       "    <tr>\n",
       "      <th>85</th>\n",
       "      <td>icap-client\\n\\nhttps://github.com/k8-proxy/ica...</td>\n",
       "      <td>v0.2.1</td>\n",
       "      <td>2021-02-17\\n\\n19:33:50</td>\n",
       "      <td></td>\n",
       "    </tr>\n",
       "    <tr>\n",
       "      <th>86</th>\n",
       "      <td>icap-client\\n\\nhttps://github.com/k8-proxy/ica...</td>\n",
       "      <td>v0.2.0</td>\n",
       "      <td>2021-02-17\\n\\n19:17:51</td>\n",
       "      <td></td>\n",
       "    </tr>\n",
       "  </tbody>\n",
       "</table>\n",
       "<p>87 rows × 4 columns</p>\n",
       "</div>"
      ],
      "text/plain": [
       "                                                 Repo                 Tag  \\\n",
       "0    GW-proxy\\n\\nhttps://github.com/k8-proxy/GW-proxy              v0.5.2   \n",
       "1    GW-proxy\\n\\nhttps://github.com/k8-proxy/GW-proxy              v0.5.1   \n",
       "2   k8-reverse-proxy\\n\\nhttps://github.com/k8-prox...              v0.1.0   \n",
       "3   k8-test-data\\n\\nhttps://github.com/k8-proxy/k8...  k-8-test-data-v0.4   \n",
       "4   k8-test-data\\n\\nhttps://github.com/k8-proxy/k8...  k-8-test-data-v0.3   \n",
       "..                                                ...                 ...   \n",
       "82  k8-rebuild-folder-to-folder\\n\\nhttps://github....              v0.1.2   \n",
       "83  k8-rebuild-folder-to-folder\\n\\nhttps://github....              v0.1.1   \n",
       "84  k8-rebuild-folder-to-folder\\n\\nhttps://github....              v0.1.0   \n",
       "85  icap-client\\n\\nhttps://github.com/k8-proxy/ica...              v0.2.1   \n",
       "86  icap-client\\n\\nhttps://github.com/k8-proxy/ica...              v0.2.0   \n",
       "\n",
       "                      Date                                        Description  \n",
       "0   2021-02-22\\n\\n13:57:35                                                     \n",
       "1   2021-01-08\\n\\n16:40:48                                                     \n",
       "2   2020-10-26\\n\\n13:40:49                                                     \n",
       "3   2020-10-29\\n\\n22:34:08  * Processed 18k gov uk site files via test dat...  \n",
       "4   2020-10-14\\n\\n10:27:07  ### Features * Integration of Distribution Api...  \n",
       "..                     ...                                                ...  \n",
       "82  2021-02-22\\n\\n15:30:13                                                     \n",
       "83  2021-02-03\\n\\n14:49:50  Fixes on v0.1.1: 1.- Some zip files were not p...  \n",
       "84  2021-01-26\\n\\n09:24:51  The initial docker version of k8-rebuild folde...  \n",
       "85  2021-02-17\\n\\n19:33:50                                                     \n",
       "86  2021-02-17\\n\\n19:17:51                                                     \n",
       "\n",
       "[87 rows x 4 columns]"
      ]
     },
     "execution_count": 5,
     "metadata": {},
     "output_type": "execute_result"
    }
   ],
   "source": [
    "df = pd.read_json('data/releases.json')\n",
    "df = df.rename(columns={'repo_repo': 'repo_name'})\n",
    "\n",
    "repos = []\n",
    "dates = []\n",
    "descriptions = []\n",
    "\n",
    "for i in range(len(df)):\n",
    "    # Repo\n",
    "    repo = df['repo_name'].iloc[i] + '\\n\\n' + df['repo_url'].iloc[i]\n",
    "    repos.append(repo)\n",
    "    # Date\n",
    "    d = df['release_date'].iloc[i]        \n",
    "    if d is not None:\n",
    "        d = d.split('T')\n",
    "        date = d[0] + '\\n\\n' + d[1][:-1]\n",
    "    else:\n",
    "        date = ''\n",
    "    dates.append(date)\n",
    "    # Description\n",
    "    content = re.sub('<.*?>', '', df['release_name'].iloc[i])\n",
    "    des = wrap_by_word(content, n=20)\n",
    "    descriptions.append(des)\n",
    "\n",
    "df['Repo'] = repos\n",
    "df['Date'] = dates\n",
    "df['Description'] = descriptions\n",
    "\n",
    "df = df.rename(columns={'release_tag': 'Tag'})\n",
    "\n",
    "df = df[['Repo', 'Tag', 'Date', 'Description']]\n",
    "df"
   ]
  },
  {
   "cell_type": "code",
   "execution_count": 6,
   "metadata": {},
   "outputs": [],
   "source": [
    "create_presentation(df, \n",
    "                    file_name='Releases Presentation', \n",
    "                    table_title='Releases', \n",
    "                    step = 4, \n",
    "                    columns_widths=[100, 40, 60, 500], \n",
    "                    columns_to_merge=['Repo'])"
   ]
  },
  {
   "cell_type": "markdown",
   "metadata": {},
   "source": [
    "The presentation is in this folder: https://drive.google.com/drive/u/1/folders/1dELfGV6IMMII97tTjqSXeJwPAMEjtbDX"
   ]
  }
 ],
 "metadata": {
  "kernelspec": {
   "display_name": "Python 3",
   "language": "python",
   "name": "python3"
  },
  "language_info": {
   "codemirror_mode": {
    "name": "ipython",
    "version": 3
   },
   "file_extension": ".py",
   "mimetype": "text/x-python",
   "name": "python",
   "nbconvert_exporter": "python",
   "pygments_lexer": "ipython3",
   "version": "3.8.5"
  }
 },
 "nbformat": 4,
 "nbformat_minor": 4
}
