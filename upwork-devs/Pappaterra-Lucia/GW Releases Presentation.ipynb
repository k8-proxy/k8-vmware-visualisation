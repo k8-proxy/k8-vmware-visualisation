{
 "cells": [
  {
   "cell_type": "markdown",
   "metadata": {},
   "source": [
    "# GW Releases Presentation"
   ]
  },
  {
   "cell_type": "code",
   "execution_count": 1,
   "metadata": {},
   "outputs": [],
   "source": [
    "%%capture\n",
    "import sys\n",
    "!{sys.executable} -m pip install google-auth-oauthlib\n",
    "!{sys.executable} -m pip install google-api-python-client\n",
    "!{sys.executable} -m pip install xhtml2pdf\n",
    "!{sys.executable} -m pip install pdfrw"
   ]
  },
  {
   "cell_type": "code",
   "execution_count": 2,
   "metadata": {},
   "outputs": [
    {
     "data": {
      "text/html": [
       "<style>.container { width:70% !important; }</style>"
      ],
      "text/plain": [
       "<IPython.core.display.HTML object>"
      ]
     },
     "metadata": {},
     "output_type": "display_data"
    }
   ],
   "source": [
    "import requests\n",
    "import pandas as pd\n",
    "import re\n",
    "from modules.Presentations import *\n",
    "from IPython.core.display import display, HTML\n",
    "display(HTML(\"<style>.container { width:70% !important; }</style>\"))"
   ]
  },
  {
   "cell_type": "code",
   "execution_count": 3,
   "metadata": {},
   "outputs": [
    {
     "data": {
      "text/html": [
       "<script>\n",
       "code_show=true; \n",
       "function code_toggle() {\n",
       " if (code_show){\n",
       " $('div.input').hide();\n",
       " } else {\n",
       " $('div.input').show();\n",
       " }\n",
       " code_show = !code_show\n",
       "} \n",
       "$( document ).ready(code_toggle);\n",
       "</script>\n",
       "<form action=\"javascript:code_toggle()\"><input type=\"submit\" value=\"Click here to toggle on/off the raw code.\"></form>"
      ],
      "text/plain": [
       "<IPython.core.display.HTML object>"
      ]
     },
     "execution_count": 3,
     "metadata": {},
     "output_type": "execute_result"
    }
   ],
   "source": [
    "HTML('''<script>\n",
    "code_show=true; \n",
    "function code_toggle() {\n",
    " if (code_show){\n",
    " $('div.input').hide();\n",
    " } else {\n",
    " $('div.input').show();\n",
    " }\n",
    " code_show = !code_show\n",
    "} \n",
    "$( document ).ready(code_toggle);\n",
    "</script>\n",
    "<form action=\"javascript:code_toggle()\"><input type=\"submit\" value=\"Click here to toggle on/off the raw code.\"></form>''')"
   ]
  },
  {
   "cell_type": "markdown",
   "metadata": {},
   "source": [
    "We get the json file with the information from https://wmwaredata.s3.us-east-2.amazonaws.com/gw_releases.json"
   ]
  },
  {
   "cell_type": "code",
   "execution_count": 4,
   "metadata": {},
   "outputs": [
    {
     "data": {
      "text/plain": [
       "8144"
      ]
     },
     "execution_count": 4,
     "metadata": {},
     "output_type": "execute_result"
    }
   ],
   "source": [
    "url = 'https://wmwaredata.s3.us-east-2.amazonaws.com/gw_releases.json'\n",
    "r = requests.get(url, allow_redirects=True)\n",
    "open('data/gw_releases.json', 'wb').write(r.content)"
   ]
  },
  {
   "cell_type": "code",
   "execution_count": 5,
   "metadata": {},
   "outputs": [
    {
     "data": {
      "text/html": [
       "<div>\n",
       "<style scoped>\n",
       "    .dataframe tbody tr th:only-of-type {\n",
       "        vertical-align: middle;\n",
       "    }\n",
       "\n",
       "    .dataframe tbody tr th {\n",
       "        vertical-align: top;\n",
       "    }\n",
       "\n",
       "    .dataframe thead th {\n",
       "        text-align: right;\n",
       "    }\n",
       "</style>\n",
       "<table border=\"1\" class=\"dataframe\">\n",
       "  <thead>\n",
       "    <tr style=\"text-align: right;\">\n",
       "      <th></th>\n",
       "      <th>Repo</th>\n",
       "      <th>Date</th>\n",
       "      <th>Version</th>\n",
       "      <th>Hash</th>\n",
       "      <th>Notes</th>\n",
       "    </tr>\n",
       "  </thead>\n",
       "  <tbody>\n",
       "    <tr>\n",
       "      <th>0</th>\n",
       "      <td>GW-proxy\\n\\nhttps://github.com/k8-proxy/GW-proxy</td>\n",
       "      <td>2021-02-22\\n\\n13:57:35</td>\n",
       "      <td>v0.5.2</td>\n",
       "      <td>d8b3bb3db39c7114f2a58b582746cb51ea653b0b</td>\n",
       "      <td>Merge pull request #359 from k8-proxy/svf97-pa...</td>\n",
       "    </tr>\n",
       "    <tr>\n",
       "      <th>1</th>\n",
       "      <td>aws-jmeter-test-engine\\n\\nhttps://github.com/k...</td>\n",
       "      <td>2021-02-19\\n\\n11:39:43</td>\n",
       "      <td>v0.3</td>\n",
       "      <td>07e073d2c7781d2073ef42199903507d7c60ece2</td>\n",
       "      <td>Update README.md (#415) - Simplified instructi...</td>\n",
       "    </tr>\n",
       "    <tr>\n",
       "      <th>2</th>\n",
       "      <td>gp-load-balancer\\n\\nhttps://github.com/k8-prox...</td>\n",
       "      <td>2021-02-15\\n\\n11:04:31</td>\n",
       "      <td>v0.1.1</td>\n",
       "      <td>82c3df98dc137c3b7095d3041d9ba57c3b8a2c6d</td>\n",
       "      <td>Merge pull request #32 from naderaly/main fix ...</td>\n",
       "    </tr>\n",
       "    <tr>\n",
       "      <th>3</th>\n",
       "      <td>icap-client\\n\\nhttps://github.com/k8-proxy/ica...</td>\n",
       "      <td>2021-02-17\\n\\n19:33:50</td>\n",
       "      <td>v0.2.1</td>\n",
       "      <td>a112f474f1b3ebbddf15700c784dd28bcbefcf4e</td>\n",
       "      <td>Update go.mod\\n</td>\n",
       "    </tr>\n",
       "    <tr>\n",
       "      <th>4</th>\n",
       "      <td>icap-infrastructure\\n\\nhttps://github.com/k8-p...</td>\n",
       "      <td>2021-02-15\\n\\n12:18:08</td>\n",
       "      <td>v1.0.1</td>\n",
       "      <td>9027b550a263af153220a3a98377b8e34cf4e7de</td>\n",
       "      <td>update deployment workflow (#55)\\n</td>\n",
       "    </tr>\n",
       "    <tr>\n",
       "      <th>5</th>\n",
       "      <td>k8-rebuild\\n\\nhttps://github.com/k8-proxy/k8-r...</td>\n",
       "      <td>2021-02-22\\n\\n14:27:56</td>\n",
       "      <td>sow-v0.1</td>\n",
       "      <td>fc542782e003b292cd5951651ba5997003f1ecad</td>\n",
       "      <td></td>\n",
       "    </tr>\n",
       "    <tr>\n",
       "      <th>6</th>\n",
       "      <td>k8-rebuild-file-drop\\n\\nhttps://github.com/k8-...</td>\n",
       "      <td>2021-02-22\\n\\n14:27:56</td>\n",
       "      <td>sow-v0.1</td>\n",
       "      <td>79b14699988edbe0fb0c64a3b2c4d4c0eb60587e</td>\n",
       "      <td></td>\n",
       "    </tr>\n",
       "    <tr>\n",
       "      <th>7</th>\n",
       "      <td>k8-rebuild-rest-api\\n\\nhttps://github.com/k8-p...</td>\n",
       "      <td>2021-02-22\\n\\n14:27:56</td>\n",
       "      <td>sow-v0.1</td>\n",
       "      <td>34a3f777159ff566102850064d2017a6054b7591</td>\n",
       "      <td></td>\n",
       "    </tr>\n",
       "    <tr>\n",
       "      <th>8</th>\n",
       "      <td>k8-rebuild-folder-to-folder\\n\\nhttps://github....</td>\n",
       "      <td>2021-02-22\\n\\n15:30:13</td>\n",
       "      <td>v0.1.2</td>\n",
       "      <td>11be72fb5adf41d53be98fdee083446a7938b622</td>\n",
       "      <td>Merge pull request #40 from k8-proxy/MaNe2020 ...</td>\n",
       "    </tr>\n",
       "    <tr>\n",
       "      <th>9</th>\n",
       "      <td>s-k8-proxy-rebuild\\n\\nhttps://github.com/k8-pr...</td>\n",
       "      <td>2021-01-20\\n\\n09:34:25</td>\n",
       "      <td>v0.1.1</td>\n",
       "      <td>ffbcabeaba991606b3e86d9f44f08fe4e2f4a26d</td>\n",
       "      <td>Merge pull request #56 from k8-proxy/remove_qu...</td>\n",
       "    </tr>\n",
       "    <tr>\n",
       "      <th>10</th>\n",
       "      <td>vmware-scripts\\n\\nhttps://github.com/k8-proxy/...</td>\n",
       "      <td>2021-02-15\\n\\n11:05:13</td>\n",
       "      <td>v0.1.6</td>\n",
       "      <td>6fd4bebf6ab2eaae1a21f09b4e42ca747d0f97fd</td>\n",
       "      <td>Merge pull request #124 from k8-proxy/fix-aws-...</td>\n",
       "    </tr>\n",
       "    <tr>\n",
       "      <th>11</th>\n",
       "      <td>GW-Releases\\n\\nhttps://github.com/k8-proxy/GW-...</td>\n",
       "      <td>2021-01-20\\n\\n16:04:00</td>\n",
       "      <td>v0.5.2</td>\n",
       "      <td>96dfb943330ba10f071f26bcd737c6258a173b56</td>\n",
       "      <td>Github Actions workflow for ICAP-server, proxy...</td>\n",
       "    </tr>\n",
       "  </tbody>\n",
       "</table>\n",
       "</div>"
      ],
      "text/plain": [
       "                                                 Repo                    Date  \\\n",
       "0    GW-proxy\\n\\nhttps://github.com/k8-proxy/GW-proxy  2021-02-22\\n\\n13:57:35   \n",
       "1   aws-jmeter-test-engine\\n\\nhttps://github.com/k...  2021-02-19\\n\\n11:39:43   \n",
       "2   gp-load-balancer\\n\\nhttps://github.com/k8-prox...  2021-02-15\\n\\n11:04:31   \n",
       "3   icap-client\\n\\nhttps://github.com/k8-proxy/ica...  2021-02-17\\n\\n19:33:50   \n",
       "4   icap-infrastructure\\n\\nhttps://github.com/k8-p...  2021-02-15\\n\\n12:18:08   \n",
       "5   k8-rebuild\\n\\nhttps://github.com/k8-proxy/k8-r...  2021-02-22\\n\\n14:27:56   \n",
       "6   k8-rebuild-file-drop\\n\\nhttps://github.com/k8-...  2021-02-22\\n\\n14:27:56   \n",
       "7   k8-rebuild-rest-api\\n\\nhttps://github.com/k8-p...  2021-02-22\\n\\n14:27:56   \n",
       "8   k8-rebuild-folder-to-folder\\n\\nhttps://github....  2021-02-22\\n\\n15:30:13   \n",
       "9   s-k8-proxy-rebuild\\n\\nhttps://github.com/k8-pr...  2021-01-20\\n\\n09:34:25   \n",
       "10  vmware-scripts\\n\\nhttps://github.com/k8-proxy/...  2021-02-15\\n\\n11:05:13   \n",
       "11  GW-Releases\\n\\nhttps://github.com/k8-proxy/GW-...  2021-01-20\\n\\n16:04:00   \n",
       "\n",
       "     Version                                      Hash  \\\n",
       "0     v0.5.2  d8b3bb3db39c7114f2a58b582746cb51ea653b0b   \n",
       "1       v0.3  07e073d2c7781d2073ef42199903507d7c60ece2   \n",
       "2     v0.1.1  82c3df98dc137c3b7095d3041d9ba57c3b8a2c6d   \n",
       "3     v0.2.1  a112f474f1b3ebbddf15700c784dd28bcbefcf4e   \n",
       "4     v1.0.1  9027b550a263af153220a3a98377b8e34cf4e7de   \n",
       "5   sow-v0.1  fc542782e003b292cd5951651ba5997003f1ecad   \n",
       "6   sow-v0.1  79b14699988edbe0fb0c64a3b2c4d4c0eb60587e   \n",
       "7   sow-v0.1  34a3f777159ff566102850064d2017a6054b7591   \n",
       "8     v0.1.2  11be72fb5adf41d53be98fdee083446a7938b622   \n",
       "9     v0.1.1  ffbcabeaba991606b3e86d9f44f08fe4e2f4a26d   \n",
       "10    v0.1.6  6fd4bebf6ab2eaae1a21f09b4e42ca747d0f97fd   \n",
       "11    v0.5.2  96dfb943330ba10f071f26bcd737c6258a173b56   \n",
       "\n",
       "                                                Notes  \n",
       "0   Merge pull request #359 from k8-proxy/svf97-pa...  \n",
       "1   Update README.md (#415) - Simplified instructi...  \n",
       "2   Merge pull request #32 from naderaly/main fix ...  \n",
       "3                                     Update go.mod\\n  \n",
       "4                  update deployment workflow (#55)\\n  \n",
       "5                                                      \n",
       "6                                                      \n",
       "7                                                      \n",
       "8   Merge pull request #40 from k8-proxy/MaNe2020 ...  \n",
       "9   Merge pull request #56 from k8-proxy/remove_qu...  \n",
       "10  Merge pull request #124 from k8-proxy/fix-aws-...  \n",
       "11  Github Actions workflow for ICAP-server, proxy...  "
      ]
     },
     "execution_count": 5,
     "metadata": {},
     "output_type": "execute_result"
    }
   ],
   "source": [
    "df = pd.read_json('data/gw_releases.json')\n",
    "df = df.rename(columns={'sub_repo_commit_url': 'sub_repo_url'})\n",
    "\n",
    "repos = []\n",
    "dates = []\n",
    "tags = []\n",
    "hashes = []\n",
    "descriptions = []\n",
    "\n",
    "for i in range(len(df)):\n",
    "    # Repo\n",
    "    repo = df['repo_name'].iloc[i] + '\\n\\n' + df['repo_url'].iloc[i]\n",
    "    repos.append(repo)\n",
    "    # Date\n",
    "    d = df['release_date'].iloc[i]        \n",
    "    if d is not None:\n",
    "        d = d.split('T')\n",
    "        date = d[0] + '\\n\\n' + d[1][:-1]\n",
    "    else:\n",
    "        date = ''\n",
    "    dates.append(date)\n",
    "    # Version / Tag\n",
    "    t = df['version'].iloc[i] \n",
    "    tags.append(t)\n",
    "    # Hash \n",
    "    h = df['hash'].iloc[i]\n",
    "    hashes.append(h)\n",
    "    # Notes / Description\n",
    "    content = re.sub('<.*?>', '', df['release_notes'].iloc[i])\n",
    "    des = wrap_by_word(content, n=20)\n",
    "    descriptions.append(des)\n",
    "    \n",
    "    # Sub Repo\n",
    "    s_name = df['sub_repo_name'].iloc[i]\n",
    "    if s_name is not None:\n",
    "        s_repo = s_name + '\\n\\n' + df['sub_repo_url'].iloc[i]\n",
    "        repos.append(s_repo)\n",
    "        # date\n",
    "        dates.append(date)\n",
    "        # tag\n",
    "        tags.append(t)\n",
    "        # Sub Hash\n",
    "        s_h = df['sub_hash'].iloc[i]\n",
    "        if s_h is not None:\n",
    "            hashes.append(s_h)\n",
    "        # notes\n",
    "        descriptions.append(des)\n",
    "\n",
    "df = pd.DataFrame()\n",
    "df['Repo'] = repos\n",
    "df['Date'] = dates\n",
    "df['Version'] = tags\n",
    "df['Hash'] = hashes\n",
    "df['Notes'] = descriptions\n",
    "\n",
    "\n",
    "# Sort columns\n",
    "df = df[['Repo', 'Date', 'Version', 'Hash', 'Notes']]\n",
    "\n",
    "# drop repeated rows\n",
    "df = df.drop_duplicates().reset_index(drop=True)\n",
    "\n",
    "df"
   ]
  },
  {
   "cell_type": "code",
   "execution_count": 6,
   "metadata": {},
   "outputs": [],
   "source": [
    "create_presentation(df, \n",
    "                    file_name='GW Releases Presentation', \n",
    "                    table_title='GW Releases', \n",
    "                    step = 4, \n",
    "                    columns_widths=[100, 60, 60, 200, 280])"
   ]
  },
  {
   "cell_type": "markdown",
   "metadata": {},
   "source": [
    "The presentation is saved to this folder: https://drive.google.com/drive/u/1/folders/1dELfGV6IMMII97tTjqSXeJwPAMEjtbDX"
   ]
  }
 ],
 "metadata": {
  "kernelspec": {
   "display_name": "Python 3",
   "language": "python",
   "name": "python3"
  },
  "language_info": {
   "codemirror_mode": {
    "name": "ipython",
    "version": 3
   },
   "file_extension": ".py",
   "mimetype": "text/x-python",
   "name": "python",
   "nbconvert_exporter": "python",
   "pygments_lexer": "ipython3",
   "version": "3.8.5"
  }
 },
 "nbformat": 4,
 "nbformat_minor": 4
}
