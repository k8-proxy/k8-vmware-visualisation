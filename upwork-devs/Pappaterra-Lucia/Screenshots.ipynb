{
 "cells": [
  {
   "cell_type": "markdown",
   "metadata": {},
   "source": [
    "# Screenshots"
   ]
  },
  {
   "cell_type": "markdown",
   "metadata": {},
   "source": [
    "Run this notebook to take screenshots of the networks visualised in the html pages.\n",
    "\n",
    "## Atention!\n",
    "\n",
    "Before running this notebook you should, run the html pages in a local server. \n",
    "\n",
    "If you are using **Ubuntu**, to start the http server on an specific port, for instance port 8080, simply type:\n",
    "\n",
    "    python -m http.server 8080"
   ]
  },
  {
   "cell_type": "code",
   "execution_count": 1,
   "metadata": {},
   "outputs": [
    {
     "name": "stdout",
     "output_type": "stream",
     "text": [
      "VMs-0.html screenshot done\n",
      "VMs-1.html screenshot done\n",
      "VMs-2.html screenshot done\n",
      "VMs-3.html screenshot done\n",
      "VMs-4.html screenshot done\n",
      "Release.html screenshot done\n"
     ]
    }
   ],
   "source": [
    "!python3 modules/Screenshots.py"
   ]
  },
  {
   "cell_type": "markdown",
   "metadata": {},
   "source": [
    "Taken screenshots are saved to data folder."
   ]
  }
 ],
 "metadata": {
  "kernelspec": {
   "display_name": "Python 3",
   "language": "python",
   "name": "python3"
  },
  "language_info": {
   "codemirror_mode": {
    "name": "ipython",
    "version": 3
   },
   "file_extension": ".py",
   "mimetype": "text/x-python",
   "name": "python",
   "nbconvert_exporter": "python",
   "pygments_lexer": "ipython3",
   "version": "3.8.5"
  }
 },
 "nbformat": 4,
 "nbformat_minor": 4
}
