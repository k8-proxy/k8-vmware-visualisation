{
 "cells": [
  {
   "cell_type": "markdown",
   "metadata": {},
   "source": [
    "# VMware EXSi Visualisations 0"
   ]
  },
  {
   "cell_type": "code",
   "execution_count": 1,
   "metadata": {},
   "outputs": [
    {
     "data": {
      "text/html": [
       "<style>.container { width:60% !important; }</style>"
      ],
      "text/plain": [
       "<IPython.core.display.HTML object>"
      ]
     },
     "metadata": {},
     "output_type": "display_data"
    }
   ],
   "source": [
    "import requests\n",
    "import pandas as pd\n",
    "import numpy as np \n",
    "import matplotlib.pyplot as plt\n",
    "from IPython.core.display import display, HTML\n",
    "display(HTML(\"<style>.container { width:60% !important; }</style>\"))"
   ]
  },
  {
   "cell_type": "code",
   "execution_count": 2,
   "metadata": {},
   "outputs": [
    {
     "data": {
      "text/html": [
       "<script>\n",
       "code_show=true; \n",
       "function code_toggle() {\n",
       " if (code_show){\n",
       " $('div.input').hide();\n",
       " } else {\n",
       " $('div.input').show();\n",
       " }\n",
       " code_show = !code_show\n",
       "} \n",
       "$( document ).ready(code_toggle);\n",
       "</script>\n",
       "<form action=\"javascript:code_toggle()\"><input type=\"submit\" value=\"Click here to toggle on/off the raw code.\"></form>"
      ],
      "text/plain": [
       "<IPython.core.display.HTML object>"
      ]
     },
     "execution_count": 2,
     "metadata": {},
     "output_type": "execute_result"
    }
   ],
   "source": [
    "HTML('''<script>\n",
    "code_show=true; \n",
    "function code_toggle() {\n",
    " if (code_show){\n",
    " $('div.input').hide();\n",
    " } else {\n",
    " $('div.input').show();\n",
    " }\n",
    " code_show = !code_show\n",
    "} \n",
    "$( document ).ready(code_toggle);\n",
    "</script>\n",
    "<form action=\"javascript:code_toggle()\"><input type=\"submit\" value=\"Click here to toggle on/off the raw code.\"></form>''')"
   ]
  },
  {
   "cell_type": "markdown",
   "metadata": {},
   "source": [
    "We get the json file with the information from: https://wmwaredata.s3.us-east-2.amazonaws.com/machines.json"
   ]
  },
  {
   "cell_type": "code",
   "execution_count": 3,
   "metadata": {},
   "outputs": [
    {
     "data": {
      "text/plain": [
       "13379"
      ]
     },
     "execution_count": 3,
     "metadata": {},
     "output_type": "execute_result"
    }
   ],
   "source": [
    "url = 'https://wmwaredata.s3.us-east-2.amazonaws.com/machines.json'\n",
    "r = requests.get(url, allow_redirects=True)\n",
    "open('data/machines.json', 'wb').write(r.content)"
   ]
  },
  {
   "cell_type": "code",
   "execution_count": 4,
   "metadata": {},
   "outputs": [
    {
     "data": {
      "text/html": [
       "<div>\n",
       "<style scoped>\n",
       "    .dataframe tbody tr th:only-of-type {\n",
       "        vertical-align: middle;\n",
       "    }\n",
       "\n",
       "    .dataframe tbody tr th {\n",
       "        vertical-align: top;\n",
       "    }\n",
       "\n",
       "    .dataframe thead th {\n",
       "        text-align: right;\n",
       "    }\n",
       "</style>\n",
       "<table border=\"1\" class=\"dataframe\">\n",
       "  <thead>\n",
       "    <tr style=\"text-align: right;\">\n",
       "      <th></th>\n",
       "      <th>BootTime</th>\n",
       "      <th>CommitedSpace</th>\n",
       "      <th>ConnectionState</th>\n",
       "      <th>CreateDate</th>\n",
       "      <th>Folder</th>\n",
       "      <th>Guest</th>\n",
       "      <th>GuestId</th>\n",
       "      <th>HardwareVersion</th>\n",
       "      <th>IPAddress</th>\n",
       "      <th>Id</th>\n",
       "      <th>...</th>\n",
       "      <th>MemoryMB</th>\n",
       "      <th>Name</th>\n",
       "      <th>Notes</th>\n",
       "      <th>NumCpu</th>\n",
       "      <th>NumVirtualDisks</th>\n",
       "      <th>PowerState</th>\n",
       "      <th>UNCommitedSpace</th>\n",
       "      <th>Uid</th>\n",
       "      <th>VMHost</th>\n",
       "      <th>Version</th>\n",
       "    </tr>\n",
       "  </thead>\n",
       "  <tbody>\n",
       "    <tr>\n",
       "      <th>0</th>\n",
       "      <td>2021-01-07 13:36:24.248327+00:00</td>\n",
       "      <td>23708312044</td>\n",
       "      <td>connected</td>\n",
       "      <td>2021-01-07 13:36:24.265589+00:00</td>\n",
       "      <td>[datastore1] OPNsense/OPNsense.vmx</td>\n",
       "      <td>OPNsense</td>\n",
       "      <td>freebsd12_64Guest</td>\n",
       "      <td>NaN</td>\n",
       "      <td>None</td>\n",
       "      <td>564d29f0-0330-cbe9-ff62-322e2a8e89b0</td>\n",
       "      <td>...</td>\n",
       "      <td>2048</td>\n",
       "      <td>OPNsense</td>\n",
       "      <td>dont_delete</td>\n",
       "      <td>2</td>\n",
       "      <td>1</td>\n",
       "      <td>poweredOn</td>\n",
       "      <td>23708312044</td>\n",
       "      <td>521d330d-04c0-11d5-be0e-7818cfbb2407</td>\n",
       "      <td>'vim.HostSystem:ha-host'</td>\n",
       "      <td>vmx-14</td>\n",
       "    </tr>\n",
       "    <tr>\n",
       "      <th>1</th>\n",
       "      <td>2021-02-08 12:53:59.688520+00:00</td>\n",
       "      <td>19411509752</td>\n",
       "      <td>connected</td>\n",
       "      <td>2021-02-08 12:53:59.709539+00:00</td>\n",
       "      <td>[datastore1] centos-testing/centos-testing.vmx</td>\n",
       "      <td>centos-testing</td>\n",
       "      <td>centos8_64Guest</td>\n",
       "      <td>NaN</td>\n",
       "      <td>91.109.25.76</td>\n",
       "      <td>564de62b-3ba3-d95e-e043-7c3c3835c472</td>\n",
       "      <td>...</td>\n",
       "      <td>2048</td>\n",
       "      <td>centos-testing</td>\n",
       "      <td>dont_delete</td>\n",
       "      <td>1</td>\n",
       "      <td>1</td>\n",
       "      <td>poweredOn</td>\n",
       "      <td>19411509752</td>\n",
       "      <td>522fb36e-4a08-5a8f-7812-1b0d1ceb535b</td>\n",
       "      <td>'vim.HostSystem:ha-host'</td>\n",
       "      <td>vmx-14</td>\n",
       "    </tr>\n",
       "    <tr>\n",
       "      <th>2</th>\n",
       "      <td>2021-02-08 13:08:22.499520+00:00</td>\n",
       "      <td>2231640568</td>\n",
       "      <td>connected</td>\n",
       "      <td>2021-02-08 13:08:22.519463+00:00</td>\n",
       "      <td>[datastore1] TestInstallation/TestInstallation...</td>\n",
       "      <td>TestInstallation</td>\n",
       "      <td>centos8_64Guest</td>\n",
       "      <td>NaN</td>\n",
       "      <td>91.109.25.81</td>\n",
       "      <td>564d403b-69bb-ef7e-07a2-e064461cea9f</td>\n",
       "      <td>...</td>\n",
       "      <td>2048</td>\n",
       "      <td>TestInstallation</td>\n",
       "      <td>dont_delete</td>\n",
       "      <td>1</td>\n",
       "      <td>1</td>\n",
       "      <td>poweredOn</td>\n",
       "      <td>2231640568</td>\n",
       "      <td>52de03ee-c829-7e4f-36e8-f5ec021d408a</td>\n",
       "      <td>'vim.HostSystem:ha-host'</td>\n",
       "      <td>vmx-14</td>\n",
       "    </tr>\n",
       "    <tr>\n",
       "      <th>3</th>\n",
       "      <td>None</td>\n",
       "      <td>52428811647</td>\n",
       "      <td>connected</td>\n",
       "      <td>2021-01-21 17:50:38.270450+00:00</td>\n",
       "      <td>[datastore1] packer-proxy-rebuild/packer-proxy...</td>\n",
       "      <td>packer-proxy-rebuild</td>\n",
       "      <td>ubuntu64Guest</td>\n",
       "      <td>NaN</td>\n",
       "      <td>None</td>\n",
       "      <td></td>\n",
       "      <td>...</td>\n",
       "      <td>8192</td>\n",
       "      <td>packer-proxy-rebuild</td>\n",
       "      <td></td>\n",
       "      <td>2</td>\n",
       "      <td>1</td>\n",
       "      <td>poweredOff</td>\n",
       "      <td>52428811647</td>\n",
       "      <td></td>\n",
       "      <td>'vim.HostSystem:ha-host'</td>\n",
       "      <td>vmx-13</td>\n",
       "    </tr>\n",
       "    <tr>\n",
       "      <th>4</th>\n",
       "      <td>2021-02-04 13:36:34.225529+00:00</td>\n",
       "      <td>36593834190</td>\n",
       "      <td>connected</td>\n",
       "      <td>2021-02-04 13:33:31.307230+00:00</td>\n",
       "      <td>[datastore1] Controller/Controller.vmx</td>\n",
       "      <td>Controller</td>\n",
       "      <td>ubuntu64Guest</td>\n",
       "      <td>NaN</td>\n",
       "      <td>91.109.26.21</td>\n",
       "      <td>564d22d6-99de-8186-43ac-b01189fd0193</td>\n",
       "      <td>...</td>\n",
       "      <td>4096</td>\n",
       "      <td>Controller</td>\n",
       "      <td></td>\n",
       "      <td>2</td>\n",
       "      <td>1</td>\n",
       "      <td>poweredOn</td>\n",
       "      <td>36593834190</td>\n",
       "      <td>527c8e8f-22a2-aa8e-f14c-943aae2a9769</td>\n",
       "      <td>'vim.HostSystem:ha-host'</td>\n",
       "      <td>vmx-14</td>\n",
       "    </tr>\n",
       "    <tr>\n",
       "      <th>5</th>\n",
       "      <td>2021-02-04 12:54:16.039620+00:00</td>\n",
       "      <td>11834237420</td>\n",
       "      <td>connected</td>\n",
       "      <td>2021-02-04 13:43:03.387354+00:00</td>\n",
       "      <td>[datastore1] file-drop-1/file-drop-1.vmx</td>\n",
       "      <td>file-drop-1</td>\n",
       "      <td>ubuntu64Guest</td>\n",
       "      <td>NaN</td>\n",
       "      <td>10.42.0.1</td>\n",
       "      <td>564db201-59fd-7e3a-90be-bf81ddd5e8cd</td>\n",
       "      <td>...</td>\n",
       "      <td>2048</td>\n",
       "      <td>file-drop-1</td>\n",
       "      <td></td>\n",
       "      <td>2</td>\n",
       "      <td>1</td>\n",
       "      <td>poweredOn</td>\n",
       "      <td>11834237420</td>\n",
       "      <td>523fa171-d3e6-090c-c37d-b9fdc28aaa7a</td>\n",
       "      <td>'vim.HostSystem:ha-host'</td>\n",
       "      <td>vmx-13</td>\n",
       "    </tr>\n",
       "    <tr>\n",
       "      <th>6</th>\n",
       "      <td>None</td>\n",
       "      <td>6595756315</td>\n",
       "      <td>connected</td>\n",
       "      <td>2021-02-08 12:29:12.227368+00:00</td>\n",
       "      <td>[datastore1] ICAP2/ICAP2.vmx</td>\n",
       "      <td>ICAP2</td>\n",
       "      <td>ubuntu64Guest</td>\n",
       "      <td>NaN</td>\n",
       "      <td>None</td>\n",
       "      <td>564d1e80-e0fe-e6f5-dbfc-43d5ad229062</td>\n",
       "      <td>...</td>\n",
       "      <td>8192</td>\n",
       "      <td>ICAP2</td>\n",
       "      <td></td>\n",
       "      <td>4</td>\n",
       "      <td>1</td>\n",
       "      <td>poweredOff</td>\n",
       "      <td>6595756315</td>\n",
       "      <td>52b45454-872d-cf3e-5b37-ec3792e4fc89</td>\n",
       "      <td>'vim.HostSystem:ha-host'</td>\n",
       "      <td>vmx-07</td>\n",
       "    </tr>\n",
       "    <tr>\n",
       "      <th>7</th>\n",
       "      <td>None</td>\n",
       "      <td>6902784492</td>\n",
       "      <td>connected</td>\n",
       "      <td>2021-02-04 21:39:44.119473+00:00</td>\n",
       "      <td>[datastore1] IQT_ICAP_Test_020421/IQT_ICAP_Tes...</td>\n",
       "      <td>IQT_ICAP_Test_020421</td>\n",
       "      <td>ubuntu64Guest</td>\n",
       "      <td>NaN</td>\n",
       "      <td>None</td>\n",
       "      <td>564dd11c-291b-8450-abaa-d1fea268f34d</td>\n",
       "      <td>...</td>\n",
       "      <td>2048</td>\n",
       "      <td>IQT_ICAP_Test_020421</td>\n",
       "      <td></td>\n",
       "      <td>1</td>\n",
       "      <td>1</td>\n",
       "      <td>poweredOff</td>\n",
       "      <td>6902784492</td>\n",
       "      <td>526bd8d8-e8e0-2f40-c226-d328007a14ac</td>\n",
       "      <td>'vim.HostSystem:ha-host'</td>\n",
       "      <td>vmx-07</td>\n",
       "    </tr>\n",
       "    <tr>\n",
       "      <th>8</th>\n",
       "      <td>2021-02-07 10:38:40.660762+00:00</td>\n",
       "      <td>69698858335</td>\n",
       "      <td>connected</td>\n",
       "      <td>2021-02-07 10:38:40.682321+00:00</td>\n",
       "      <td>[datastore1] logtrixia/logtrixia.vmx</td>\n",
       "      <td>logtrixia</td>\n",
       "      <td>ubuntu64Guest</td>\n",
       "      <td>NaN</td>\n",
       "      <td>91.109.26.22</td>\n",
       "      <td>564d4d69-9038-90dd-030e-102a7251d021</td>\n",
       "      <td>...</td>\n",
       "      <td>16384</td>\n",
       "      <td>logtrixia</td>\n",
       "      <td>Faisal, Monitoring Server, Demo</td>\n",
       "      <td>4</td>\n",
       "      <td>1</td>\n",
       "      <td>poweredOn</td>\n",
       "      <td>69698858335</td>\n",
       "      <td></td>\n",
       "      <td>'vim.HostSystem:ha-host'</td>\n",
       "      <td>vmx-13</td>\n",
       "    </tr>\n",
       "    <tr>\n",
       "      <th>9</th>\n",
       "      <td>2021-02-07 16:17:51.478830+00:00</td>\n",
       "      <td>18401468908</td>\n",
       "      <td>connected</td>\n",
       "      <td>2021-02-07 16:17:51.495868+00:00</td>\n",
       "      <td>[datastore1] test-srevice-ova/test-srevice-ova...</td>\n",
       "      <td>test-srevice-ova</td>\n",
       "      <td>ubuntu64Guest</td>\n",
       "      <td>NaN</td>\n",
       "      <td>172.18.0.1</td>\n",
       "      <td>564d22df-f8c8-6047-363c-ae9877bcde13</td>\n",
       "      <td>...</td>\n",
       "      <td>8192</td>\n",
       "      <td>test-srevice-ova</td>\n",
       "      <td></td>\n",
       "      <td>2</td>\n",
       "      <td>1</td>\n",
       "      <td>poweredOn</td>\n",
       "      <td>18401468908</td>\n",
       "      <td>52510480-c357-6374-272e-50802f0bd98a</td>\n",
       "      <td>'vim.HostSystem:ha-host'</td>\n",
       "      <td>vmx-07</td>\n",
       "    </tr>\n",
       "    <tr>\n",
       "      <th>10</th>\n",
       "      <td>2021-02-08 09:45:28.553950+00:00</td>\n",
       "      <td>11956920812</td>\n",
       "      <td>connected</td>\n",
       "      <td>2021-02-08 09:46:03.989509+00:00</td>\n",
       "      <td>[datastore1] f2f-QA/f2f-QA.vmx</td>\n",
       "      <td>f2f-QA</td>\n",
       "      <td>ubuntu64Guest</td>\n",
       "      <td>NaN</td>\n",
       "      <td>172.18.0.1</td>\n",
       "      <td>564dec73-910b-fe6c-f43e-6941414b8b9d</td>\n",
       "      <td>...</td>\n",
       "      <td>2048</td>\n",
       "      <td>f2f-QA</td>\n",
       "      <td></td>\n",
       "      <td>1</td>\n",
       "      <td>1</td>\n",
       "      <td>poweredOn</td>\n",
       "      <td>11956920812</td>\n",
       "      <td>5231f21b-14ef-9d19-3a30-4ddefc6c3977</td>\n",
       "      <td>'vim.HostSystem:ha-host'</td>\n",
       "      <td>vmx-07</td>\n",
       "    </tr>\n",
       "    <tr>\n",
       "      <th>11</th>\n",
       "      <td>None</td>\n",
       "      <td>6577921517</td>\n",
       "      <td>connected</td>\n",
       "      <td>2021-02-09 15:11:03.772920+00:00</td>\n",
       "      <td>[datastore1] ICAP3/ICAP3.vmx</td>\n",
       "      <td>ICAP3</td>\n",
       "      <td>ubuntu64Guest</td>\n",
       "      <td>NaN</td>\n",
       "      <td>None</td>\n",
       "      <td>564d1216-3840-364f-13ea-da00e0347264</td>\n",
       "      <td>...</td>\n",
       "      <td>8192</td>\n",
       "      <td>ICAP3</td>\n",
       "      <td></td>\n",
       "      <td>4</td>\n",
       "      <td>1</td>\n",
       "      <td>poweredOff</td>\n",
       "      <td>6577921517</td>\n",
       "      <td>52934d7a-bd12-3217-b226-fdf23c4bc150</td>\n",
       "      <td>'vim.HostSystem:ha-host'</td>\n",
       "      <td>vmx-07</td>\n",
       "    </tr>\n",
       "    <tr>\n",
       "      <th>12</th>\n",
       "      <td>None</td>\n",
       "      <td>6578114005</td>\n",
       "      <td>connected</td>\n",
       "      <td>2021-02-08 12:55:16.261281+00:00</td>\n",
       "      <td>[datastore1] icap_pass_change_marija/icap_pass...</td>\n",
       "      <td>icap_pass_change_marija</td>\n",
       "      <td>ubuntu64Guest</td>\n",
       "      <td>NaN</td>\n",
       "      <td>None</td>\n",
       "      <td>564d44a3-3005-2db6-42d3-f903a4b72ef3</td>\n",
       "      <td>...</td>\n",
       "      <td>8192</td>\n",
       "      <td>icap_pass_change_marija</td>\n",
       "      <td></td>\n",
       "      <td>4</td>\n",
       "      <td>1</td>\n",
       "      <td>poweredOff</td>\n",
       "      <td>6578114005</td>\n",
       "      <td>52c5b0a8-5eeb-0b17-7571-7b991f0671f8</td>\n",
       "      <td>'vim.HostSystem:ha-host'</td>\n",
       "      <td>vmx-07</td>\n",
       "    </tr>\n",
       "    <tr>\n",
       "      <th>13</th>\n",
       "      <td>2021-02-09 15:16:09.180285+00:00</td>\n",
       "      <td>9206505964</td>\n",
       "      <td>connected</td>\n",
       "      <td>2021-02-09 15:16:24.121425+00:00</td>\n",
       "      <td>[datastore1] ICAP4/ICAP4.vmx</td>\n",
       "      <td>ICAP4</td>\n",
       "      <td>ubuntu64Guest</td>\n",
       "      <td>NaN</td>\n",
       "      <td>91.109.26.19</td>\n",
       "      <td>564dd337-dcc4-be8f-c265-ffc38b4906fc</td>\n",
       "      <td>...</td>\n",
       "      <td>2048</td>\n",
       "      <td>ICAP4</td>\n",
       "      <td></td>\n",
       "      <td>1</td>\n",
       "      <td>1</td>\n",
       "      <td>poweredOn</td>\n",
       "      <td>9206505964</td>\n",
       "      <td>5234e4c1-ae73-efe8-2468-7736c1697554</td>\n",
       "      <td>'vim.HostSystem:ha-host'</td>\n",
       "      <td>vmx-07</td>\n",
       "    </tr>\n",
       "    <tr>\n",
       "      <th>14</th>\n",
       "      <td>2021-02-10 20:02:38.732900+00:00</td>\n",
       "      <td>56807664999</td>\n",
       "      <td>connected</td>\n",
       "      <td>2021-02-10 20:02:38.749287+00:00</td>\n",
       "      <td>[datastore1] haproxy-icap/haproxy-icap.vmx</td>\n",
       "      <td>haproxy-icap</td>\n",
       "      <td>ubuntu64Guest</td>\n",
       "      <td>NaN</td>\n",
       "      <td>91.109.25.80</td>\n",
       "      <td>564d0739-6ffd-53c8-6d1a-430614b05552</td>\n",
       "      <td>...</td>\n",
       "      <td>4096</td>\n",
       "      <td>haproxy-icap</td>\n",
       "      <td></td>\n",
       "      <td>1</td>\n",
       "      <td>1</td>\n",
       "      <td>poweredOn</td>\n",
       "      <td>56807664999</td>\n",
       "      <td></td>\n",
       "      <td>'vim.HostSystem:ha-host'</td>\n",
       "      <td>vmx-13</td>\n",
       "    </tr>\n",
       "    <tr>\n",
       "      <th>15</th>\n",
       "      <td>None</td>\n",
       "      <td>1531978220</td>\n",
       "      <td>connected</td>\n",
       "      <td>2021-02-10 17:48:04.224390+00:00</td>\n",
       "      <td>[datastore1] haproxy-ova/haproxy-ova.vmx</td>\n",
       "      <td>haproxy-ova</td>\n",
       "      <td>ubuntu64Guest</td>\n",
       "      <td>NaN</td>\n",
       "      <td>None</td>\n",
       "      <td>564d8255-edf0-7c28-29f3-7f7609715510</td>\n",
       "      <td>...</td>\n",
       "      <td>2048</td>\n",
       "      <td>haproxy-ova</td>\n",
       "      <td></td>\n",
       "      <td>1</td>\n",
       "      <td>1</td>\n",
       "      <td>poweredOff</td>\n",
       "      <td>1531978220</td>\n",
       "      <td>52b6dbb3-7af7-ef64-3f80-983af3013801</td>\n",
       "      <td>'vim.HostSystem:ha-host'</td>\n",
       "      <td>vmx-07</td>\n",
       "    </tr>\n",
       "  </tbody>\n",
       "</table>\n",
       "<p>16 rows × 22 columns</p>\n",
       "</div>"
      ],
      "text/plain": [
       "                            BootTime  CommitedSpace ConnectionState  \\\n",
       "0   2021-01-07 13:36:24.248327+00:00    23708312044       connected   \n",
       "1   2021-02-08 12:53:59.688520+00:00    19411509752       connected   \n",
       "2   2021-02-08 13:08:22.499520+00:00     2231640568       connected   \n",
       "3                               None    52428811647       connected   \n",
       "4   2021-02-04 13:36:34.225529+00:00    36593834190       connected   \n",
       "5   2021-02-04 12:54:16.039620+00:00    11834237420       connected   \n",
       "6                               None     6595756315       connected   \n",
       "7                               None     6902784492       connected   \n",
       "8   2021-02-07 10:38:40.660762+00:00    69698858335       connected   \n",
       "9   2021-02-07 16:17:51.478830+00:00    18401468908       connected   \n",
       "10  2021-02-08 09:45:28.553950+00:00    11956920812       connected   \n",
       "11                              None     6577921517       connected   \n",
       "12                              None     6578114005       connected   \n",
       "13  2021-02-09 15:16:09.180285+00:00     9206505964       connected   \n",
       "14  2021-02-10 20:02:38.732900+00:00    56807664999       connected   \n",
       "15                              None     1531978220       connected   \n",
       "\n",
       "                          CreateDate  \\\n",
       "0   2021-01-07 13:36:24.265589+00:00   \n",
       "1   2021-02-08 12:53:59.709539+00:00   \n",
       "2   2021-02-08 13:08:22.519463+00:00   \n",
       "3   2021-01-21 17:50:38.270450+00:00   \n",
       "4   2021-02-04 13:33:31.307230+00:00   \n",
       "5   2021-02-04 13:43:03.387354+00:00   \n",
       "6   2021-02-08 12:29:12.227368+00:00   \n",
       "7   2021-02-04 21:39:44.119473+00:00   \n",
       "8   2021-02-07 10:38:40.682321+00:00   \n",
       "9   2021-02-07 16:17:51.495868+00:00   \n",
       "10  2021-02-08 09:46:03.989509+00:00   \n",
       "11  2021-02-09 15:11:03.772920+00:00   \n",
       "12  2021-02-08 12:55:16.261281+00:00   \n",
       "13  2021-02-09 15:16:24.121425+00:00   \n",
       "14  2021-02-10 20:02:38.749287+00:00   \n",
       "15  2021-02-10 17:48:04.224390+00:00   \n",
       "\n",
       "                                               Folder  \\\n",
       "0                  [datastore1] OPNsense/OPNsense.vmx   \n",
       "1      [datastore1] centos-testing/centos-testing.vmx   \n",
       "2   [datastore1] TestInstallation/TestInstallation...   \n",
       "3   [datastore1] packer-proxy-rebuild/packer-proxy...   \n",
       "4              [datastore1] Controller/Controller.vmx   \n",
       "5            [datastore1] file-drop-1/file-drop-1.vmx   \n",
       "6                        [datastore1] ICAP2/ICAP2.vmx   \n",
       "7   [datastore1] IQT_ICAP_Test_020421/IQT_ICAP_Tes...   \n",
       "8                [datastore1] logtrixia/logtrixia.vmx   \n",
       "9   [datastore1] test-srevice-ova/test-srevice-ova...   \n",
       "10                     [datastore1] f2f-QA/f2f-QA.vmx   \n",
       "11                       [datastore1] ICAP3/ICAP3.vmx   \n",
       "12  [datastore1] icap_pass_change_marija/icap_pass...   \n",
       "13                       [datastore1] ICAP4/ICAP4.vmx   \n",
       "14         [datastore1] haproxy-icap/haproxy-icap.vmx   \n",
       "15           [datastore1] haproxy-ova/haproxy-ova.vmx   \n",
       "\n",
       "                      Guest            GuestId  HardwareVersion     IPAddress  \\\n",
       "0                  OPNsense  freebsd12_64Guest              NaN          None   \n",
       "1            centos-testing    centos8_64Guest              NaN  91.109.25.76   \n",
       "2          TestInstallation    centos8_64Guest              NaN  91.109.25.81   \n",
       "3      packer-proxy-rebuild      ubuntu64Guest              NaN          None   \n",
       "4                Controller      ubuntu64Guest              NaN  91.109.26.21   \n",
       "5               file-drop-1      ubuntu64Guest              NaN     10.42.0.1   \n",
       "6                     ICAP2      ubuntu64Guest              NaN          None   \n",
       "7      IQT_ICAP_Test_020421      ubuntu64Guest              NaN          None   \n",
       "8                 logtrixia      ubuntu64Guest              NaN  91.109.26.22   \n",
       "9          test-srevice-ova      ubuntu64Guest              NaN    172.18.0.1   \n",
       "10                   f2f-QA      ubuntu64Guest              NaN    172.18.0.1   \n",
       "11                    ICAP3      ubuntu64Guest              NaN          None   \n",
       "12  icap_pass_change_marija      ubuntu64Guest              NaN          None   \n",
       "13                    ICAP4      ubuntu64Guest              NaN  91.109.26.19   \n",
       "14             haproxy-icap      ubuntu64Guest              NaN  91.109.25.80   \n",
       "15              haproxy-ova      ubuntu64Guest              NaN          None   \n",
       "\n",
       "                                      Id  ...  MemoryMB  \\\n",
       "0   564d29f0-0330-cbe9-ff62-322e2a8e89b0  ...      2048   \n",
       "1   564de62b-3ba3-d95e-e043-7c3c3835c472  ...      2048   \n",
       "2   564d403b-69bb-ef7e-07a2-e064461cea9f  ...      2048   \n",
       "3                                         ...      8192   \n",
       "4   564d22d6-99de-8186-43ac-b01189fd0193  ...      4096   \n",
       "5   564db201-59fd-7e3a-90be-bf81ddd5e8cd  ...      2048   \n",
       "6   564d1e80-e0fe-e6f5-dbfc-43d5ad229062  ...      8192   \n",
       "7   564dd11c-291b-8450-abaa-d1fea268f34d  ...      2048   \n",
       "8   564d4d69-9038-90dd-030e-102a7251d021  ...     16384   \n",
       "9   564d22df-f8c8-6047-363c-ae9877bcde13  ...      8192   \n",
       "10  564dec73-910b-fe6c-f43e-6941414b8b9d  ...      2048   \n",
       "11  564d1216-3840-364f-13ea-da00e0347264  ...      8192   \n",
       "12  564d44a3-3005-2db6-42d3-f903a4b72ef3  ...      8192   \n",
       "13  564dd337-dcc4-be8f-c265-ffc38b4906fc  ...      2048   \n",
       "14  564d0739-6ffd-53c8-6d1a-430614b05552  ...      4096   \n",
       "15  564d8255-edf0-7c28-29f3-7f7609715510  ...      2048   \n",
       "\n",
       "                       Name                            Notes NumCpu  \\\n",
       "0                  OPNsense                      dont_delete      2   \n",
       "1            centos-testing                      dont_delete      1   \n",
       "2          TestInstallation                      dont_delete      1   \n",
       "3      packer-proxy-rebuild                                       2   \n",
       "4                Controller                                       2   \n",
       "5               file-drop-1                                       2   \n",
       "6                     ICAP2                                       4   \n",
       "7      IQT_ICAP_Test_020421                                       1   \n",
       "8                 logtrixia  Faisal, Monitoring Server, Demo      4   \n",
       "9          test-srevice-ova                                       2   \n",
       "10                   f2f-QA                                       1   \n",
       "11                    ICAP3                                       4   \n",
       "12  icap_pass_change_marija                                       4   \n",
       "13                    ICAP4                                       1   \n",
       "14             haproxy-icap                                       1   \n",
       "15              haproxy-ova                                       1   \n",
       "\n",
       "   NumVirtualDisks  PowerState  UNCommitedSpace  \\\n",
       "0                1   poweredOn      23708312044   \n",
       "1                1   poweredOn      19411509752   \n",
       "2                1   poweredOn       2231640568   \n",
       "3                1  poweredOff      52428811647   \n",
       "4                1   poweredOn      36593834190   \n",
       "5                1   poweredOn      11834237420   \n",
       "6                1  poweredOff       6595756315   \n",
       "7                1  poweredOff       6902784492   \n",
       "8                1   poweredOn      69698858335   \n",
       "9                1   poweredOn      18401468908   \n",
       "10               1   poweredOn      11956920812   \n",
       "11               1  poweredOff       6577921517   \n",
       "12               1  poweredOff       6578114005   \n",
       "13               1   poweredOn       9206505964   \n",
       "14               1   poweredOn      56807664999   \n",
       "15               1  poweredOff       1531978220   \n",
       "\n",
       "                                     Uid                    VMHost Version  \n",
       "0   521d330d-04c0-11d5-be0e-7818cfbb2407  'vim.HostSystem:ha-host'  vmx-14  \n",
       "1   522fb36e-4a08-5a8f-7812-1b0d1ceb535b  'vim.HostSystem:ha-host'  vmx-14  \n",
       "2   52de03ee-c829-7e4f-36e8-f5ec021d408a  'vim.HostSystem:ha-host'  vmx-14  \n",
       "3                                         'vim.HostSystem:ha-host'  vmx-13  \n",
       "4   527c8e8f-22a2-aa8e-f14c-943aae2a9769  'vim.HostSystem:ha-host'  vmx-14  \n",
       "5   523fa171-d3e6-090c-c37d-b9fdc28aaa7a  'vim.HostSystem:ha-host'  vmx-13  \n",
       "6   52b45454-872d-cf3e-5b37-ec3792e4fc89  'vim.HostSystem:ha-host'  vmx-07  \n",
       "7   526bd8d8-e8e0-2f40-c226-d328007a14ac  'vim.HostSystem:ha-host'  vmx-07  \n",
       "8                                         'vim.HostSystem:ha-host'  vmx-13  \n",
       "9   52510480-c357-6374-272e-50802f0bd98a  'vim.HostSystem:ha-host'  vmx-07  \n",
       "10  5231f21b-14ef-9d19-3a30-4ddefc6c3977  'vim.HostSystem:ha-host'  vmx-07  \n",
       "11  52934d7a-bd12-3217-b226-fdf23c4bc150  'vim.HostSystem:ha-host'  vmx-07  \n",
       "12  52c5b0a8-5eeb-0b17-7571-7b991f0671f8  'vim.HostSystem:ha-host'  vmx-07  \n",
       "13  5234e4c1-ae73-efe8-2468-7736c1697554  'vim.HostSystem:ha-host'  vmx-07  \n",
       "14                                        'vim.HostSystem:ha-host'  vmx-13  \n",
       "15  52b6dbb3-7af7-ef64-3f80-983af3013801  'vim.HostSystem:ha-host'  vmx-07  \n",
       "\n",
       "[16 rows x 22 columns]"
      ]
     },
     "execution_count": 4,
     "metadata": {},
     "output_type": "execute_result"
    }
   ],
   "source": [
    "json_file = 'data/machines.json' \n",
    "df = pd.read_json(json_file)\n",
    "df"
   ]
  },
  {
   "cell_type": "markdown",
   "metadata": {},
   "source": [
    "## Power State"
   ]
  },
  {
   "cell_type": "code",
   "execution_count": 5,
   "metadata": {},
   "outputs": [
    {
     "data": {
      "text/plain": [
       "poweredOn     10\n",
       "poweredOff     6\n",
       "Name: PowerState, dtype: int64"
      ]
     },
     "execution_count": 5,
     "metadata": {},
     "output_type": "execute_result"
    }
   ],
   "source": [
    "df.PowerState.value_counts()"
   ]
  },
  {
   "cell_type": "code",
   "execution_count": 6,
   "metadata": {},
   "outputs": [
    {
     "data": {
      "image/png": "[encoded data removed]",
      "text/plain": [
       "<Figure size 504x432 with 1 Axes>"
      ]
     },
     "metadata": {
      "needs_background": "light"
     },
     "output_type": "display_data"
    }
   ],
   "source": [
    "df.PowerState.value_counts().plot(kind='bar', figsize=(7, 6), rot=0) #kind='barh'\n",
    "plt.xlabel(\"Power State\", labelpad=14)\n",
    "plt.ylabel(\"Counts\", labelpad=14)\n",
    "plt.title(\"Power State\", y=1.02);"
   ]
  },
  {
   "cell_type": "code",
   "execution_count": 7,
   "metadata": {},
   "outputs": [
    {
     "data": {
      "image/png": "[encoded data removed]",
      "text/plain": [
       "<Figure size 504x432 with 1 Axes>"
      ]
     },
     "metadata": {},
     "output_type": "display_data"
    }
   ],
   "source": [
    "df.PowerState.value_counts().plot(kind='pie', figsize=(7, 6), rot=0) \n",
    "plt.title(\"Power State\", y=1.02);"
   ]
  },
  {
   "cell_type": "markdown",
   "metadata": {},
   "source": [
    "## Connection State"
   ]
  },
  {
   "cell_type": "code",
   "execution_count": 8,
   "metadata": {},
   "outputs": [
    {
     "data": {
      "text/plain": [
       "connected    16\n",
       "Name: ConnectionState, dtype: int64"
      ]
     },
     "execution_count": 8,
     "metadata": {},
     "output_type": "execute_result"
    }
   ],
   "source": [
    "df.ConnectionState.value_counts()"
   ]
  },
  {
   "cell_type": "code",
   "execution_count": 9,
   "metadata": {},
   "outputs": [
    {
     "data": {
      "image/png": "[encoded data removed]",
      "text/plain": [
       "<Figure size 504x432 with 1 Axes>"
      ]
     },
     "metadata": {
      "needs_background": "light"
     },
     "output_type": "display_data"
    }
   ],
   "source": [
    "df.ConnectionState.value_counts().plot(kind='bar', figsize=(7, 6), rot=0) #kind='barh'\n",
    "plt.xlabel(\"Connection State\", labelpad=14)\n",
    "plt.ylabel(\"Counts\", labelpad=14)\n",
    "plt.title(\"Connection State\", y=1.02);"
   ]
  },
  {
   "cell_type": "code",
   "execution_count": 10,
   "metadata": {},
   "outputs": [
    {
     "data": {
      "image/png": "[encoded data removed]",
      "text/plain": [
       "<Figure size 504x432 with 1 Axes>"
      ]
     },
     "metadata": {},
     "output_type": "display_data"
    }
   ],
   "source": [
    "df.ConnectionState.value_counts().plot(kind='pie', figsize=(7, 6), rot=0) \n",
    "plt.title(\"Connection State\", y=1.02);"
   ]
  },
  {
   "cell_type": "markdown",
   "metadata": {},
   "source": [
    "## Number of CPUs"
   ]
  },
  {
   "cell_type": "code",
   "execution_count": 11,
   "metadata": {},
   "outputs": [
    {
     "data": {
      "text/plain": [
       "1    7\n",
       "2    5\n",
       "4    4\n",
       "Name: NumCpu, dtype: int64"
      ]
     },
     "execution_count": 11,
     "metadata": {},
     "output_type": "execute_result"
    }
   ],
   "source": [
    "df.NumCpu.value_counts()"
   ]
  },
  {
   "cell_type": "code",
   "execution_count": 12,
   "metadata": {},
   "outputs": [
    {
     "data": {
      "image/png": "[encoded data removed]",
      "text/plain": [
       "<Figure size 504x432 with 1 Axes>"
      ]
     },
     "metadata": {
      "needs_background": "light"
     },
     "output_type": "display_data"
    }
   ],
   "source": [
    "df.NumCpu.value_counts().plot(kind='bar', figsize=(7, 6), rot=0) #kind='barh'\n",
    "plt.xlabel(\"Number of CPUs\", labelpad=14)\n",
    "plt.ylabel(\"Counts\", labelpad=14)\n",
    "plt.title(\"Number of CPUs\", y=1.02);"
   ]
  },
  {
   "cell_type": "code",
   "execution_count": 13,
   "metadata": {},
   "outputs": [
    {
     "data": {
      "image/png": "[encoded data removed]",
      "text/plain": [
       "<Figure size 504x432 with 1 Axes>"
      ]
     },
     "metadata": {},
     "output_type": "display_data"
    }
   ],
   "source": [
    "df.NumCpu.value_counts().plot(kind='pie', figsize=(7, 6), rot=0) \n",
    "plt.title(\"Number of CPUs\", y=1.02);"
   ]
  },
  {
   "cell_type": "markdown",
   "metadata": {},
   "source": [
    "##  Number of Virtual Disks"
   ]
  },
  {
   "cell_type": "code",
   "execution_count": 14,
   "metadata": {},
   "outputs": [
    {
     "data": {
      "text/plain": [
       "1    16\n",
       "Name: NumVirtualDisks, dtype: int64"
      ]
     },
     "execution_count": 14,
     "metadata": {},
     "output_type": "execute_result"
    }
   ],
   "source": [
    "df.NumVirtualDisks.value_counts()"
   ]
  },
  {
   "cell_type": "code",
   "execution_count": 15,
   "metadata": {},
   "outputs": [
    {
     "data": {
      "image/png": "[encoded data removed]",
      "text/plain": [
       "<Figure size 504x432 with 1 Axes>"
      ]
     },
     "metadata": {
      "needs_background": "light"
     },
     "output_type": "display_data"
    }
   ],
   "source": [
    "df.NumVirtualDisks.value_counts().plot(kind='bar', figsize=(7, 6), rot=0) #kind='barh'\n",
    "plt.xlabel(\"Number of Virtual Disks\", labelpad=14)\n",
    "plt.ylabel(\"Counts\", labelpad=14)\n",
    "plt.title(\"Number of Virtual Disks\", y=1.02);"
   ]
  },
  {
   "cell_type": "code",
   "execution_count": 16,
   "metadata": {},
   "outputs": [
    {
     "data": {
      "image/png": "[encoded data removed]",
      "text/plain": [
       "<Figure size 504x432 with 1 Axes>"
      ]
     },
     "metadata": {},
     "output_type": "display_data"
    }
   ],
   "source": [
    "df.NumVirtualDisks.value_counts().plot(kind='pie', figsize=(7, 6), rot=0) \n",
    "plt.title(\"Number of Virtual Disks\", y=1.02);"
   ]
  },
  {
   "cell_type": "markdown",
   "metadata": {},
   "source": [
    "## Memory"
   ]
  },
  {
   "cell_type": "code",
   "execution_count": 17,
   "metadata": {},
   "outputs": [
    {
     "data": {
      "text/plain": [
       "2048     8\n",
       "8192     5\n",
       "4096     2\n",
       "16384    1\n",
       "Name: MemoryMB, dtype: int64"
      ]
     },
     "execution_count": 17,
     "metadata": {},
     "output_type": "execute_result"
    }
   ],
   "source": [
    "df.MemoryMB.value_counts()"
   ]
  },
  {
   "cell_type": "code",
   "execution_count": 18,
   "metadata": {},
   "outputs": [
    {
     "data": {
      "image/png": "[encoded data removed]",
      "text/plain": [
       "<Figure size 504x432 with 1 Axes>"
      ]
     },
     "metadata": {
      "needs_background": "light"
     },
     "output_type": "display_data"
    }
   ],
   "source": [
    "df.MemoryMB.value_counts().plot(kind='bar', figsize=(7, 6), rot=0) #kind='barh'\n",
    "plt.xlabel(\"Memory (MB)\", labelpad=14)\n",
    "plt.ylabel(\"Counts\", labelpad=14)\n",
    "plt.title(\"Memory (MB)\", y=1.02);"
   ]
  },
  {
   "cell_type": "code",
   "execution_count": 19,
   "metadata": {},
   "outputs": [
    {
     "data": {
      "image/png": "[encoded data removed]",
      "text/plain": [
       "<Figure size 504x432 with 1 Axes>"
      ]
     },
     "metadata": {},
     "output_type": "display_data"
    }
   ],
   "source": [
    "df.MemoryMB.value_counts().plot(kind='pie', figsize=(7, 6), rot=0) \n",
    "plt.title(\"Memory (MB)\", y=1.02);"
   ]
  },
  {
   "cell_type": "markdown",
   "metadata": {},
   "source": [
    "[comment]: <> (## Provisioned Space)"
   ]
  },
  {
   "cell_type": "code",
   "execution_count": 20,
   "metadata": {},
   "outputs": [],
   "source": [
    "#xint = [x for x in range(len(df))]\n",
    "#y = np.asarray(df.ProvisionedSpaceGB)\n",
    "#plt.figure(figsize=(10, 6))\n",
    "#plt.plot(y, 'o-', color='black')\n",
    "#plt.xticks(xint)\n",
    "#plt.xlabel(\"VM\", labelpad=14)\n",
    "#plt.ylabel(\"Provisioned Space (GB)\", labelpad=14)\n",
    "#plt.title(\"Provisioned Space (GB)\", y=1.02);"
   ]
  },
  {
   "cell_type": "markdown",
   "metadata": {},
   "source": [
    "[comment]: <> (## Used Space)"
   ]
  },
  {
   "cell_type": "code",
   "execution_count": 21,
   "metadata": {},
   "outputs": [],
   "source": [
    "#y = np.asarray(df.UsedSpaceGB)\n",
    "#plt.figure(figsize=(10, 6))\n",
    "#plt.plot(y, 'o-', color='black')\n",
    "#plt.xticks(xint)\n",
    "#plt.xlabel(\"VM\", labelpad=14)\n",
    "#plt.ylabel(\"Used Space (GB)\", labelpad=14)\n",
    "#plt.title(\"Used Space (GB)\", y=1.02);"
   ]
  },
  {
   "cell_type": "markdown",
   "metadata": {},
   "source": [
    "## Commited and Uncommited Space"
   ]
  },
  {
   "cell_type": "code",
   "execution_count": 22,
   "metadata": {},
   "outputs": [
    {
     "data": {
      "image/png": "[encoded data removed]",
      "text/plain": [
       "<Figure size 720x432 with 1 Axes>"
      ]
     },
     "metadata": {
      "needs_background": "light"
     },
     "output_type": "display_data"
    }
   ],
   "source": [
    "xint = [x for x in range(len(df))]\n",
    "y = np.asarray(df.CommitedSpace)\n",
    "plt.figure(figsize=(10, 6))\n",
    "plt.plot(y, 'o-', color='black')\n",
    "plt.xticks(xint)\n",
    "plt.xlabel(\"VM\", labelpad=14)\n",
    "plt.ylabel(\"Commited Space\", labelpad=14)\n",
    "plt.title(\"Commited Space\", y=1.02);"
   ]
  },
  {
   "cell_type": "code",
   "execution_count": 23,
   "metadata": {},
   "outputs": [
    {
     "data": {
      "image/png": "[encoded data removed]",
      "text/plain": [
       "<Figure size 720x432 with 1 Axes>"
      ]
     },
     "metadata": {
      "needs_background": "light"
     },
     "output_type": "display_data"
    }
   ],
   "source": [
    "y = np.asarray(df.UNCommitedSpace)\n",
    "plt.figure(figsize=(10, 6))\n",
    "plt.plot(y, 'o-', color='black')\n",
    "plt.xticks(xint)\n",
    "plt.xlabel(\"VM\", labelpad=14)\n",
    "plt.ylabel(\"Uncommited Space\", labelpad=14)\n",
    "plt.title(\"Uncommited Space\", y=1.02);"
   ]
  }
 ],
 "metadata": {
  "kernelspec": {
   "display_name": "Python 3",
   "language": "python",
   "name": "python3"
  },
  "language_info": {
   "codemirror_mode": {
    "name": "ipython",
    "version": 3
   },
   "file_extension": ".py",
   "mimetype": "text/x-python",
   "name": "python",
   "nbconvert_exporter": "python",
   "pygments_lexer": "ipython3",
   "version": "3.8.5"
  }
 },
 "nbformat": 4,
 "nbformat_minor": 4
}
