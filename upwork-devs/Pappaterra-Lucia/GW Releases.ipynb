{
 "cells": [
  {
   "cell_type": "markdown",
   "metadata": {},
   "source": [
    "# GW Releases"
   ]
  },
  {
   "cell_type": "code",
   "execution_count": 1,
   "metadata": {},
   "outputs": [
    {
     "data": {
      "text/html": [
       "<style>.container { width:70% !important; }</style>"
      ],
      "text/plain": [
       "<IPython.core.display.HTML object>"
      ]
     },
     "metadata": {},
     "output_type": "display_data"
    }
   ],
   "source": [
    "import requests\n",
    "import pandas as pd\n",
    "import re\n",
    "import json\n",
    "from IPython.core.display import display, HTML\n",
    "from modules.Network import *\n",
    "display(HTML(\"<style>.container { width:70% !important; }</style>\"))"
   ]
  },
  {
   "cell_type": "code",
   "execution_count": 2,
   "metadata": {},
   "outputs": [
    {
     "data": {
      "text/html": [
       "<script>\n",
       "code_show=true; \n",
       "function code_toggle() {\n",
       " if (code_show){\n",
       " $('div.input').hide();\n",
       " } else {\n",
       " $('div.input').show();\n",
       " }\n",
       " code_show = !code_show\n",
       "} \n",
       "$( document ).ready(code_toggle);\n",
       "</script>\n",
       "<form action=\"javascript:code_toggle()\"><input type=\"submit\" value=\"Click here to toggle on/off the raw code.\"></form>"
      ],
      "text/plain": [
       "<IPython.core.display.HTML object>"
      ]
     },
     "execution_count": 2,
     "metadata": {},
     "output_type": "execute_result"
    }
   ],
   "source": [
    "HTML('''<script>\n",
    "code_show=true; \n",
    "function code_toggle() {\n",
    " if (code_show){\n",
    " $('div.input').hide();\n",
    " } else {\n",
    " $('div.input').show();\n",
    " }\n",
    " code_show = !code_show\n",
    "} \n",
    "$( document ).ready(code_toggle);\n",
    "</script>\n",
    "<form action=\"javascript:code_toggle()\"><input type=\"submit\" value=\"Click here to toggle on/off the raw code.\"></form>''')"
   ]
  },
  {
   "cell_type": "markdown",
   "metadata": {},
   "source": [
    "We get the json file with the information from https://wmwaredata.s3.us-east-2.amazonaws.com/gw_releases.json"
   ]
  },
  {
   "cell_type": "code",
   "execution_count": 3,
   "metadata": {},
   "outputs": [
    {
     "data": {
      "text/plain": [
       "6145"
      ]
     },
     "execution_count": 3,
     "metadata": {},
     "output_type": "execute_result"
    }
   ],
   "source": [
    "url = 'https://wmwaredata.s3.us-east-2.amazonaws.com/gw_releases.json'\n",
    "r = requests.get(url, allow_redirects=True)\n",
    "open('data/gw_releases.json', 'wb').write(r.content)"
   ]
  },
  {
   "cell_type": "code",
   "execution_count": 4,
   "metadata": {},
   "outputs": [],
   "source": [
    "df = pd.read_json('data/gw_releases.json')"
   ]
  },
  {
   "cell_type": "code",
   "execution_count": 5,
   "metadata": {},
   "outputs": [
    {
     "data": {
      "text/html": [
       "<div>\n",
       "<style scoped>\n",
       "    .dataframe tbody tr th:only-of-type {\n",
       "        vertical-align: middle;\n",
       "    }\n",
       "\n",
       "    .dataframe tbody tr th {\n",
       "        vertical-align: top;\n",
       "    }\n",
       "\n",
       "    .dataframe thead th {\n",
       "        text-align: right;\n",
       "    }\n",
       "</style>\n",
       "<table border=\"1\" class=\"dataframe\">\n",
       "  <thead>\n",
       "    <tr style=\"text-align: right;\">\n",
       "      <th></th>\n",
       "      <th>commit_url</th>\n",
       "      <th>hash</th>\n",
       "      <th>hash_short</th>\n",
       "      <th>release_date</th>\n",
       "      <th>release_name</th>\n",
       "      <th>release_tag</th>\n",
       "      <th>repo_name</th>\n",
       "      <th>repo_url</th>\n",
       "      <th>sub_commit_url</th>\n",
       "      <th>sub_hash</th>\n",
       "      <th>sub_hash_short</th>\n",
       "      <th>sub_name</th>\n",
       "      <th>sub_repo_commit_url</th>\n",
       "    </tr>\n",
       "  </thead>\n",
       "  <tbody>\n",
       "    <tr>\n",
       "      <th>0</th>\n",
       "      <td>https://github.com/k8-proxy/GW-proxy/tree/9024...</td>\n",
       "      <td>902403ed9f9834e1b393dd05d308e514c536981b</td>\n",
       "      <td>902403e</td>\n",
       "      <td>2021-01-08T16:40:48Z</td>\n",
       "      <td></td>\n",
       "      <td>v0.5.1</td>\n",
       "      <td>GW-proxy</td>\n",
       "      <td>https://github.com/k8-proxy/GW-proxy</td>\n",
       "      <td>None</td>\n",
       "      <td>None</td>\n",
       "      <td>None</td>\n",
       "      <td>None</td>\n",
       "      <td>None</td>\n",
       "    </tr>\n",
       "    <tr>\n",
       "      <th>1</th>\n",
       "      <td>https://github.com/k8-proxy/s-k8-proxy-rebuild...</td>\n",
       "      <td>ffbcabeaba991606b3e86d9f44f08fe4e2f4a26d</td>\n",
       "      <td>ffbcabe</td>\n",
       "      <td>2021-01-20T09:34:25Z</td>\n",
       "      <td></td>\n",
       "      <td>v0.1.1</td>\n",
       "      <td>s-k8-proxy-rebuild</td>\n",
       "      <td>https://github.com/k8-proxy/s-k8-proxy-rebuild</td>\n",
       "      <td>None</td>\n",
       "      <td>None</td>\n",
       "      <td>None</td>\n",
       "      <td>None</td>\n",
       "      <td>None</td>\n",
       "    </tr>\n",
       "    <tr>\n",
       "      <th>2</th>\n",
       "      <td>https://github.com/k8-proxy/aws-jmeter-test-en...</td>\n",
       "      <td>47dd00c402359a072c2fe614b1be6eb86d2fe06a</td>\n",
       "      <td>47dd00c</td>\n",
       "      <td>2021-01-29T12:29:04Z</td>\n",
       "      <td>- Instructions simplified\\r\\n- Bugs fixed\\r\\n-...</td>\n",
       "      <td>v0.2.1</td>\n",
       "      <td>aws-jmeter-test-engine</td>\n",
       "      <td>https://github.com/k8-proxy/aws-jmeter-test-en...</td>\n",
       "      <td>None</td>\n",
       "      <td>None</td>\n",
       "      <td>None</td>\n",
       "      <td>None</td>\n",
       "      <td>None</td>\n",
       "    </tr>\n",
       "    <tr>\n",
       "      <th>3</th>\n",
       "      <td>https://github.com/k8-proxy/icap-infrastructur...</td>\n",
       "      <td>9027b550a263af153220a3a98377b8e34cf4e7de</td>\n",
       "      <td>9027b55</td>\n",
       "      <td>2021-02-15T12:18:08Z</td>\n",
       "      <td></td>\n",
       "      <td>v1.0.1</td>\n",
       "      <td>icap-infrastructure</td>\n",
       "      <td>https://github.com/k8-proxy/icap-infrastructure</td>\n",
       "      <td>None</td>\n",
       "      <td>None</td>\n",
       "      <td>None</td>\n",
       "      <td>None</td>\n",
       "      <td>None</td>\n",
       "    </tr>\n",
       "    <tr>\n",
       "      <th>4</th>\n",
       "      <td>https://github.com/k8-proxy/k8-rebuild/tree/ce...</td>\n",
       "      <td>ce00c47c470529d47061ed25f4faf064e416b470</td>\n",
       "      <td>ce00c47</td>\n",
       "      <td>2021-02-15T11:03:05Z</td>\n",
       "      <td></td>\n",
       "      <td>v0.1.2</td>\n",
       "      <td>k8-rebuild</td>\n",
       "      <td>https://github.com/k8-proxy/k8-rebuild</td>\n",
       "      <td>https://github.com/k8-proxy/k8-rebuild-file-dr...</td>\n",
       "      <td>79b14699988edbe0fb0c64a3b2c4d4c0eb60587e</td>\n",
       "      <td>79b1469</td>\n",
       "      <td>k8-rebuild-file-drop</td>\n",
       "      <td>https://github.com/k8-proxy/k8-rebuild-file-drop</td>\n",
       "    </tr>\n",
       "    <tr>\n",
       "      <th>5</th>\n",
       "      <td>https://github.com/k8-proxy/k8-rebuild/tree/ce...</td>\n",
       "      <td>ce00c47c470529d47061ed25f4faf064e416b470</td>\n",
       "      <td>ce00c47</td>\n",
       "      <td>2021-02-15T11:03:05Z</td>\n",
       "      <td></td>\n",
       "      <td>v0.1.2</td>\n",
       "      <td>k8-rebuild</td>\n",
       "      <td>https://github.com/k8-proxy/k8-rebuild</td>\n",
       "      <td>https://github.com/k8-proxy/k8-rebuild-rest-ap...</td>\n",
       "      <td>34a3f777159ff566102850064d2017a6054b7591</td>\n",
       "      <td>34a3f77</td>\n",
       "      <td>k8-rebuild-rest-api</td>\n",
       "      <td>https://github.com/k8-proxy/k8-rebuild-rest-api</td>\n",
       "    </tr>\n",
       "    <tr>\n",
       "      <th>6</th>\n",
       "      <td>https://github.com/k8-proxy/k8-rebuild-folder-...</td>\n",
       "      <td>80db47c82f60311d49140253dd5418d874cb85a5</td>\n",
       "      <td>80db47c</td>\n",
       "      <td>2021-02-03T14:49:50Z</td>\n",
       "      <td>Fixes on v0.1.1:\\r\\n1.- Some zip files were no...</td>\n",
       "      <td>v0.1.1</td>\n",
       "      <td>k8-rebuild-folder-to-folder</td>\n",
       "      <td>https://github.com/k8-proxy/k8-rebuild-folder-...</td>\n",
       "      <td>None</td>\n",
       "      <td>None</td>\n",
       "      <td>None</td>\n",
       "      <td>None</td>\n",
       "      <td>None</td>\n",
       "    </tr>\n",
       "    <tr>\n",
       "      <th>7</th>\n",
       "      <td>https://github.com/k8-proxy/vmware-scripts/tre...</td>\n",
       "      <td>0d97cbe34d1464acb75fd56a0973c65cca5f282a</td>\n",
       "      <td>0d97cbe</td>\n",
       "      <td>2021-02-15T11:05:13Z</td>\n",
       "      <td></td>\n",
       "      <td>v0.1.6</td>\n",
       "      <td>vmware-scripts</td>\n",
       "      <td>https://github.com/k8-proxy/vmware-scripts</td>\n",
       "      <td>None</td>\n",
       "      <td>None</td>\n",
       "      <td>None</td>\n",
       "      <td>None</td>\n",
       "      <td>None</td>\n",
       "    </tr>\n",
       "  </tbody>\n",
       "</table>\n",
       "</div>"
      ],
      "text/plain": [
       "                                          commit_url  \\\n",
       "0  https://github.com/k8-proxy/GW-proxy/tree/9024...   \n",
       "1  https://github.com/k8-proxy/s-k8-proxy-rebuild...   \n",
       "2  https://github.com/k8-proxy/aws-jmeter-test-en...   \n",
       "3  https://github.com/k8-proxy/icap-infrastructur...   \n",
       "4  https://github.com/k8-proxy/k8-rebuild/tree/ce...   \n",
       "5  https://github.com/k8-proxy/k8-rebuild/tree/ce...   \n",
       "6  https://github.com/k8-proxy/k8-rebuild-folder-...   \n",
       "7  https://github.com/k8-proxy/vmware-scripts/tre...   \n",
       "\n",
       "                                       hash hash_short          release_date  \\\n",
       "0  902403ed9f9834e1b393dd05d308e514c536981b    902403e  2021-01-08T16:40:48Z   \n",
       "1  ffbcabeaba991606b3e86d9f44f08fe4e2f4a26d    ffbcabe  2021-01-20T09:34:25Z   \n",
       "2  47dd00c402359a072c2fe614b1be6eb86d2fe06a    47dd00c  2021-01-29T12:29:04Z   \n",
       "3  9027b550a263af153220a3a98377b8e34cf4e7de    9027b55  2021-02-15T12:18:08Z   \n",
       "4  ce00c47c470529d47061ed25f4faf064e416b470    ce00c47  2021-02-15T11:03:05Z   \n",
       "5  ce00c47c470529d47061ed25f4faf064e416b470    ce00c47  2021-02-15T11:03:05Z   \n",
       "6  80db47c82f60311d49140253dd5418d874cb85a5    80db47c  2021-02-03T14:49:50Z   \n",
       "7  0d97cbe34d1464acb75fd56a0973c65cca5f282a    0d97cbe  2021-02-15T11:05:13Z   \n",
       "\n",
       "                                        release_name release_tag  \\\n",
       "0                                                         v0.5.1   \n",
       "1                                                         v0.1.1   \n",
       "2  - Instructions simplified\\r\\n- Bugs fixed\\r\\n-...      v0.2.1   \n",
       "3                                                         v1.0.1   \n",
       "4                                                         v0.1.2   \n",
       "5                                                         v0.1.2   \n",
       "6  Fixes on v0.1.1:\\r\\n1.- Some zip files were no...      v0.1.1   \n",
       "7                                                         v0.1.6   \n",
       "\n",
       "                     repo_name  \\\n",
       "0                     GW-proxy   \n",
       "1           s-k8-proxy-rebuild   \n",
       "2       aws-jmeter-test-engine   \n",
       "3          icap-infrastructure   \n",
       "4                   k8-rebuild   \n",
       "5                   k8-rebuild   \n",
       "6  k8-rebuild-folder-to-folder   \n",
       "7               vmware-scripts   \n",
       "\n",
       "                                            repo_url  \\\n",
       "0               https://github.com/k8-proxy/GW-proxy   \n",
       "1     https://github.com/k8-proxy/s-k8-proxy-rebuild   \n",
       "2  https://github.com/k8-proxy/aws-jmeter-test-en...   \n",
       "3    https://github.com/k8-proxy/icap-infrastructure   \n",
       "4             https://github.com/k8-proxy/k8-rebuild   \n",
       "5             https://github.com/k8-proxy/k8-rebuild   \n",
       "6  https://github.com/k8-proxy/k8-rebuild-folder-...   \n",
       "7         https://github.com/k8-proxy/vmware-scripts   \n",
       "\n",
       "                                      sub_commit_url  \\\n",
       "0                                               None   \n",
       "1                                               None   \n",
       "2                                               None   \n",
       "3                                               None   \n",
       "4  https://github.com/k8-proxy/k8-rebuild-file-dr...   \n",
       "5  https://github.com/k8-proxy/k8-rebuild-rest-ap...   \n",
       "6                                               None   \n",
       "7                                               None   \n",
       "\n",
       "                                   sub_hash sub_hash_short  \\\n",
       "0                                      None           None   \n",
       "1                                      None           None   \n",
       "2                                      None           None   \n",
       "3                                      None           None   \n",
       "4  79b14699988edbe0fb0c64a3b2c4d4c0eb60587e        79b1469   \n",
       "5  34a3f777159ff566102850064d2017a6054b7591        34a3f77   \n",
       "6                                      None           None   \n",
       "7                                      None           None   \n",
       "\n",
       "               sub_name                               sub_repo_commit_url  \n",
       "0                  None                                              None  \n",
       "1                  None                                              None  \n",
       "2                  None                                              None  \n",
       "3                  None                                              None  \n",
       "4  k8-rebuild-file-drop  https://github.com/k8-proxy/k8-rebuild-file-drop  \n",
       "5   k8-rebuild-rest-api   https://github.com/k8-proxy/k8-rebuild-rest-api  \n",
       "6                  None                                              None  \n",
       "7                  None                                              None  "
      ]
     },
     "execution_count": 5,
     "metadata": {},
     "output_type": "execute_result"
    }
   ],
   "source": [
    "df"
   ]
  },
  {
   "cell_type": "code",
   "execution_count": 6,
   "metadata": {},
   "outputs": [],
   "source": [
    "# CREATE JSON FILE WITH NODES AND EDGES\n",
    "\n",
    "network = Network()\n",
    "network.groups = ['GW-Releases', 'Repo', 'Sub_Repo']\n",
    "network.groupSettings = group_settings_GW\n",
    "\n",
    "# GW-Releases node\n",
    "network.add_node(label='GW-Releases', group='GW-Releases')\n",
    "\n",
    "for repo in set(list(df['repo_url'])):\n",
    "    # REPO\n",
    "    repo_name = re.sub('https://github.com/', '', repo)\n",
    "    #hash_ = df[df['repo_url']==repo]['hash'].iloc[0]\n",
    "    hash_short = df[df['repo_url']==repo]['hash_short'].iloc[0]\n",
    "    tag = df[df['repo_url']==repo]['release_tag'].iloc[0]\n",
    "    label = repo_name + '\\n' + tag + '\\n' + hash_short\n",
    "    network.add_node(label, group='Repo')\n",
    "    network.add_edge(network.nodesIds['GW-Releases'][0], network.nodesIds[label][0])\n",
    "    \n",
    "    # SUB REPO\n",
    "    df1 = df[df['repo_url'] == repo].dropna().reset_index()\n",
    "    for i in range(len(df1)):\n",
    "        sub_repo = df1['sub_repo_commit_url'].iloc[i]\n",
    "        sub_repo_name = re.sub('https://github.com/', '', sub_repo)\n",
    "        #sub_hash = df1[df1['sub_repo_commit_url']==sub_repo]['sub_hash'].iloc[0]\n",
    "        sub_hash_short = df1[df1['sub_repo_commit_url']==sub_repo]['sub_hash_short'].iloc[0]\n",
    "        label2 = sub_repo_name + '\\n' + sub_hash_short\n",
    "        network.add_node(label2, group='Sub_Repo')\n",
    "        network.add_edge(network.nodesIds[label][0], network.nodesIds[label2][0])\n",
    "        \n",
    "network.save_to_json('data/gw_releases_nodes_edges.json')"
   ]
  },
  {
   "cell_type": "code",
   "execution_count": 7,
   "metadata": {},
   "outputs": [
    {
     "data": {
      "text/html": [
       "<div id=\"mynetwork0\"></div>\n"
      ],
      "text/plain": [
       "<IPython.core.display.HTML object>"
      ]
     },
     "metadata": {},
     "output_type": "display_data"
    }
   ],
   "source": [
    "%%html\n",
    "<div id=\"mynetwork0\"></div>"
   ]
  },
  {
   "cell_type": "code",
   "execution_count": 8,
   "metadata": {},
   "outputs": [
    {
     "data": {
      "application/javascript": [
       "requirejs.config({\n",
       "    paths: {\n",
       "        vis: 'vis'\n",
       "    }\n",
       "});\n",
       "\n",
       "\n",
       "require(['vis'], function(vis){\n",
       "    \n",
       "    var json = $.getJSON(\"data/gw_releases_nodes_edges.json\")\n",
       "      .done(function(data){\n",
       "        var data = {\n",
       "          nodes: data.nodes,\n",
       "          edges: data.edges\n",
       "        };\n",
       "        var network = new vis.Network(container, data, options);\n",
       "      });\n",
       "    \n",
       "    var options = {\n",
       "      width: '1200px',\n",
       "      height: '900px',\n",
       "      locale: 'en',\n",
       "      physics: false,\n",
       "      interaction: {\n",
       "        hover:true, \n",
       "        tooltipDelay: 300\n",
       "      },        \n",
       "      layout: {\n",
       "        randomSeed: 1,\n",
       "        improvedLayout: true,\n",
       "        hierarchical: {\n",
       "          enabled: true,\n",
       "          direction: 'LR',\n",
       "          nodeSpacing: 200,\n",
       "          levelSeparation: 250,  \n",
       "          sortMethod: 'directed',\n",
       "        },\n",
       "      },\n",
       "    }; \n",
       "    \n",
       "    var container = document.getElementById(\"mynetwork0\");\n",
       "    \n",
       "});\n"
      ],
      "text/plain": [
       "<IPython.core.display.Javascript object>"
      ]
     },
     "metadata": {},
     "output_type": "display_data"
    }
   ],
   "source": [
    "%%javascript\n",
    "requirejs.config({\n",
    "    paths: {\n",
    "        vis: 'vis'\n",
    "    }\n",
    "});\n",
    "\n",
    "\n",
    "require(['vis'], function(vis){\n",
    "    \n",
    "    var json = $.getJSON(\"data/gw_releases_nodes_edges.json\")\n",
    "      .done(function(data){\n",
    "        var data = {\n",
    "          nodes: data.nodes,\n",
    "          edges: data.edges\n",
    "        };\n",
    "        var network = new vis.Network(container, data, options);\n",
    "      });\n",
    "    \n",
    "    var options = {\n",
    "      width: '1200px',\n",
    "      height: '900px',\n",
    "      locale: 'en',\n",
    "      physics: false,\n",
    "      interaction: {\n",
    "        hover:true, \n",
    "        tooltipDelay: 300\n",
    "      },        \n",
    "      layout: {\n",
    "        randomSeed: 1,\n",
    "        improvedLayout: true,\n",
    "        hierarchical: {\n",
    "          enabled: true,\n",
    "          direction: 'LR',\n",
    "          nodeSpacing: 200,\n",
    "          levelSeparation: 250,  \n",
    "          sortMethod: 'directed',\n",
    "        },\n",
    "      },\n",
    "    }; \n",
    "    \n",
    "    var container = document.getElementById(\"mynetwork0\");\n",
    "    \n",
    "});"
   ]
  },
  {
   "cell_type": "code",
   "execution_count": 9,
   "metadata": {},
   "outputs": [
    {
     "data": {
      "text/html": [
       "<div id=\"mynetwork1\"></div>\n"
      ],
      "text/plain": [
       "<IPython.core.display.HTML object>"
      ]
     },
     "metadata": {},
     "output_type": "display_data"
    }
   ],
   "source": [
    "%%html\n",
    "<div id=\"mynetwork1\"></div>"
   ]
  },
  {
   "cell_type": "code",
   "execution_count": 10,
   "metadata": {},
   "outputs": [
    {
     "data": {
      "application/javascript": [
       "requirejs.config({\n",
       "    paths: {\n",
       "        vis: 'vis'\n",
       "    }\n",
       "});\n",
       "\n",
       "require(['vis'], function(vis){ \n",
       "    \n",
       "    var json = $.getJSON(\"data/gw_releases_nodes_edges.json\")\n",
       "      .done(function(data){\n",
       "        var data = {\n",
       "          nodes: data.nodes,\n",
       "          edges: data.edges\n",
       "        };\n",
       "        var network = new vis.Network(container, data, options);\n",
       "      });\n",
       "       \n",
       "    var options = {      \n",
       "      width: '1200px',\n",
       "      height: '1000px',\n",
       "      physics: true,\n",
       "    };    \n",
       "    \n",
       "    var container = document.getElementById(\"mynetwork1\");\n",
       "});\n"
      ],
      "text/plain": [
       "<IPython.core.display.Javascript object>"
      ]
     },
     "metadata": {},
     "output_type": "display_data"
    }
   ],
   "source": [
    "%%javascript\n",
    "requirejs.config({\n",
    "    paths: {\n",
    "        vis: 'vis'\n",
    "    }\n",
    "});\n",
    "\n",
    "require(['vis'], function(vis){ \n",
    "    \n",
    "    var json = $.getJSON(\"data/gw_releases_nodes_edges.json\")\n",
    "      .done(function(data){\n",
    "        var data = {\n",
    "          nodes: data.nodes,\n",
    "          edges: data.edges\n",
    "        };\n",
    "        var network = new vis.Network(container, data, options);\n",
    "      });\n",
    "       \n",
    "    var options = {      \n",
    "      width: '1200px',\n",
    "      height: '1000px',\n",
    "      physics: true,\n",
    "    };    \n",
    "    \n",
    "    var container = document.getElementById(\"mynetwork1\");\n",
    "});"
   ]
  }
 ],
 "metadata": {
  "kernelspec": {
   "display_name": "Python 3",
   "language": "python",
   "name": "python3"
  },
  "language_info": {
   "codemirror_mode": {
    "name": "ipython",
    "version": 3
   },
   "file_extension": ".py",
   "mimetype": "text/x-python",
   "name": "python",
   "nbconvert_exporter": "python",
   "pygments_lexer": "ipython3",
   "version": "3.8.5"
  }
 },
 "nbformat": 4,
 "nbformat_minor": 4
}
